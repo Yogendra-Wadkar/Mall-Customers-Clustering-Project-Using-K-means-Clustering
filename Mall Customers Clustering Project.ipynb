{
 "cells": [
  {
   "cell_type": "markdown",
   "id": "59ac1833",
   "metadata": {},
   "source": [
    "# importing Libraries"
   ]
  },
  {
   "cell_type": "code",
   "execution_count": 1,
   "id": "8fbe8278",
   "metadata": {},
   "outputs": [],
   "source": [
    "import numpy as np\n",
    "import pandas as pd\n",
    "\n",
    "import matplotlib.pyplot as plt\n",
    "import seaborn as sns\n",
    "\n",
    "from sklearn.preprocessing import StandardScaler,MinMaxScaler\n",
    "from sklearn.cluster import KMeans\n",
    "from sklearn.metrics import silhouette_score\n",
    "\n",
    "import warnings\n",
    "warnings.filterwarnings(\"ignore\")"
   ]
  },
  {
   "cell_type": "markdown",
   "id": "2fe90e18",
   "metadata": {},
   "source": [
    "# 1.problem statement"
   ]
  },
  {
   "cell_type": "markdown",
   "id": "4927622c",
   "metadata": {},
   "source": [
    "### About the dataset\n",
    "This input file contains the basic information (ID, age, gender, income, spending score) about the customers of a mall. Spending Score is something you assign to the customer based on your defined parameters like customer behavior and purchasing data."
   ]
  },
  {
   "cell_type": "markdown",
   "id": "efc9dbae",
   "metadata": {},
   "source": [
    "### KMeans Clustering \n",
    "K-means clustering is one of the simplest and popular unsupervised machine learning algorithms. You’ll define a target number k, which refers to the number of centroids you need in the dataset. A centroid is the imaginary or real location representing the center of the cluster. Every data point is allocated to each of the clusters through reducing the in-cluster sum of squares. In other words, the K-means algorithm identifies k number of centroids, and then allocates every data point to the nearest cluster, while keeping the centroids as small as possible. The ‘means’ in the K-means refers to averaging of the data; that is, finding the centroid."
   ]
  },
  {
   "cell_type": "markdown",
   "id": "041c8d10",
   "metadata": {},
   "source": [
    "![k-means-clustering-algorithm-in-machine-learning](https://github.com/Yogendra-Wadkar/Telecom-Customer-Churn-Prediction-Using-Machine-Learning/assets/134367735/1459ad12-35d5-4a76-b0b9-11e8c15670bc)"
   ]
  },
  {
   "cell_type": "markdown",
   "id": "86a4053f",
   "metadata": {},
   "source": [
    "# 2.Data Gathering"
   ]
  },
  {
   "cell_type": "code",
   "execution_count": 2,
   "id": "d3cdc428",
   "metadata": {},
   "outputs": [
    {
     "data": {
      "text/html": [
       "<div>\n",
       "<style scoped>\n",
       "    .dataframe tbody tr th:only-of-type {\n",
       "        vertical-align: middle;\n",
       "    }\n",
       "\n",
       "    .dataframe tbody tr th {\n",
       "        vertical-align: top;\n",
       "    }\n",
       "\n",
       "    .dataframe thead th {\n",
       "        text-align: right;\n",
       "    }\n",
       "</style>\n",
       "<table border=\"1\" class=\"dataframe\">\n",
       "  <thead>\n",
       "    <tr style=\"text-align: right;\">\n",
       "      <th></th>\n",
       "      <th>CustomerID</th>\n",
       "      <th>Gender</th>\n",
       "      <th>Age</th>\n",
       "      <th>Annual Income (k$)</th>\n",
       "      <th>Spending Score (1-100)</th>\n",
       "    </tr>\n",
       "  </thead>\n",
       "  <tbody>\n",
       "    <tr>\n",
       "      <th>0</th>\n",
       "      <td>1</td>\n",
       "      <td>Male</td>\n",
       "      <td>19</td>\n",
       "      <td>15</td>\n",
       "      <td>39</td>\n",
       "    </tr>\n",
       "    <tr>\n",
       "      <th>1</th>\n",
       "      <td>2</td>\n",
       "      <td>Male</td>\n",
       "      <td>21</td>\n",
       "      <td>15</td>\n",
       "      <td>81</td>\n",
       "    </tr>\n",
       "    <tr>\n",
       "      <th>2</th>\n",
       "      <td>3</td>\n",
       "      <td>Female</td>\n",
       "      <td>20</td>\n",
       "      <td>16</td>\n",
       "      <td>6</td>\n",
       "    </tr>\n",
       "    <tr>\n",
       "      <th>3</th>\n",
       "      <td>4</td>\n",
       "      <td>Female</td>\n",
       "      <td>23</td>\n",
       "      <td>16</td>\n",
       "      <td>77</td>\n",
       "    </tr>\n",
       "    <tr>\n",
       "      <th>4</th>\n",
       "      <td>5</td>\n",
       "      <td>Female</td>\n",
       "      <td>31</td>\n",
       "      <td>17</td>\n",
       "      <td>40</td>\n",
       "    </tr>\n",
       "  </tbody>\n",
       "</table>\n",
       "</div>"
      ],
      "text/plain": [
       "   CustomerID  Gender  Age  Annual Income (k$)  Spending Score (1-100)\n",
       "0           1    Male   19                  15                      39\n",
       "1           2    Male   21                  15                      81\n",
       "2           3  Female   20                  16                       6\n",
       "3           4  Female   23                  16                      77\n",
       "4           5  Female   31                  17                      40"
      ]
     },
     "execution_count": 2,
     "metadata": {},
     "output_type": "execute_result"
    }
   ],
   "source": [
    "df = pd.read_csv(r\"D:\\Jupyter python\\New dataset for pratice numpy and pandas\\Mall_Customers.csv\")\n",
    "df.head()"
   ]
  },
  {
   "cell_type": "markdown",
   "id": "f50afb3c",
   "metadata": {},
   "source": [
    "# 3.EDA(Exploratory Data Analysis)"
   ]
  },
  {
   "cell_type": "code",
   "execution_count": 3,
   "id": "72cb4ad8",
   "metadata": {},
   "outputs": [
    {
     "data": {
      "text/plain": [
       "Index(['CustomerID', 'Gender', 'Age', 'Annual Income (k$)',\n",
       "       'Spending Score (1-100)'],\n",
       "      dtype='object')"
      ]
     },
     "execution_count": 3,
     "metadata": {},
     "output_type": "execute_result"
    }
   ],
   "source": [
    "df.columns"
   ]
  },
  {
   "cell_type": "code",
   "execution_count": 4,
   "id": "2a883faf",
   "metadata": {},
   "outputs": [
    {
     "name": "stdout",
     "output_type": "stream",
     "text": [
      "<class 'pandas.core.frame.DataFrame'>\n",
      "RangeIndex: 200 entries, 0 to 199\n",
      "Data columns (total 5 columns):\n",
      " #   Column                  Non-Null Count  Dtype \n",
      "---  ------                  --------------  ----- \n",
      " 0   CustomerID              200 non-null    int64 \n",
      " 1   Gender                  200 non-null    object\n",
      " 2   Age                     200 non-null    int64 \n",
      " 3   Annual Income (k$)      200 non-null    int64 \n",
      " 4   Spending Score (1-100)  200 non-null    int64 \n",
      "dtypes: int64(4), object(1)\n",
      "memory usage: 7.9+ KB\n"
     ]
    }
   ],
   "source": [
    "df.info()"
   ]
  },
  {
   "cell_type": "code",
   "execution_count": 5,
   "id": "481a3de4",
   "metadata": {},
   "outputs": [
    {
     "data": {
      "text/html": [
       "<div>\n",
       "<style scoped>\n",
       "    .dataframe tbody tr th:only-of-type {\n",
       "        vertical-align: middle;\n",
       "    }\n",
       "\n",
       "    .dataframe tbody tr th {\n",
       "        vertical-align: top;\n",
       "    }\n",
       "\n",
       "    .dataframe thead th {\n",
       "        text-align: right;\n",
       "    }\n",
       "</style>\n",
       "<table border=\"1\" class=\"dataframe\">\n",
       "  <thead>\n",
       "    <tr style=\"text-align: right;\">\n",
       "      <th></th>\n",
       "      <th>CustomerID</th>\n",
       "      <th>Age</th>\n",
       "      <th>Annual Income (k$)</th>\n",
       "      <th>Spending Score (1-100)</th>\n",
       "    </tr>\n",
       "  </thead>\n",
       "  <tbody>\n",
       "    <tr>\n",
       "      <th>count</th>\n",
       "      <td>200.000000</td>\n",
       "      <td>200.000000</td>\n",
       "      <td>200.000000</td>\n",
       "      <td>200.000000</td>\n",
       "    </tr>\n",
       "    <tr>\n",
       "      <th>mean</th>\n",
       "      <td>100.500000</td>\n",
       "      <td>38.850000</td>\n",
       "      <td>60.560000</td>\n",
       "      <td>50.200000</td>\n",
       "    </tr>\n",
       "    <tr>\n",
       "      <th>std</th>\n",
       "      <td>57.879185</td>\n",
       "      <td>13.969007</td>\n",
       "      <td>26.264721</td>\n",
       "      <td>25.823522</td>\n",
       "    </tr>\n",
       "    <tr>\n",
       "      <th>min</th>\n",
       "      <td>1.000000</td>\n",
       "      <td>18.000000</td>\n",
       "      <td>15.000000</td>\n",
       "      <td>1.000000</td>\n",
       "    </tr>\n",
       "    <tr>\n",
       "      <th>25%</th>\n",
       "      <td>50.750000</td>\n",
       "      <td>28.750000</td>\n",
       "      <td>41.500000</td>\n",
       "      <td>34.750000</td>\n",
       "    </tr>\n",
       "    <tr>\n",
       "      <th>50%</th>\n",
       "      <td>100.500000</td>\n",
       "      <td>36.000000</td>\n",
       "      <td>61.500000</td>\n",
       "      <td>50.000000</td>\n",
       "    </tr>\n",
       "    <tr>\n",
       "      <th>75%</th>\n",
       "      <td>150.250000</td>\n",
       "      <td>49.000000</td>\n",
       "      <td>78.000000</td>\n",
       "      <td>73.000000</td>\n",
       "    </tr>\n",
       "    <tr>\n",
       "      <th>max</th>\n",
       "      <td>200.000000</td>\n",
       "      <td>70.000000</td>\n",
       "      <td>137.000000</td>\n",
       "      <td>99.000000</td>\n",
       "    </tr>\n",
       "  </tbody>\n",
       "</table>\n",
       "</div>"
      ],
      "text/plain": [
       "       CustomerID         Age  Annual Income (k$)  Spending Score (1-100)\n",
       "count  200.000000  200.000000          200.000000              200.000000\n",
       "mean   100.500000   38.850000           60.560000               50.200000\n",
       "std     57.879185   13.969007           26.264721               25.823522\n",
       "min      1.000000   18.000000           15.000000                1.000000\n",
       "25%     50.750000   28.750000           41.500000               34.750000\n",
       "50%    100.500000   36.000000           61.500000               50.000000\n",
       "75%    150.250000   49.000000           78.000000               73.000000\n",
       "max    200.000000   70.000000          137.000000               99.000000"
      ]
     },
     "execution_count": 5,
     "metadata": {},
     "output_type": "execute_result"
    }
   ],
   "source": [
    "df.describe()"
   ]
  },
  {
   "cell_type": "code",
   "execution_count": 6,
   "id": "bc3012e3",
   "metadata": {},
   "outputs": [
    {
     "data": {
      "text/plain": [
       "CustomerID                0\n",
       "Gender                    0\n",
       "Age                       0\n",
       "Annual Income (k$)        0\n",
       "Spending Score (1-100)    0\n",
       "dtype: int64"
      ]
     },
     "execution_count": 6,
     "metadata": {},
     "output_type": "execute_result"
    }
   ],
   "source": [
    "df.isnull().sum()"
   ]
  },
  {
   "cell_type": "markdown",
   "id": "61331f6c",
   "metadata": {},
   "source": [
    "# 4.Feature Engineering"
   ]
  },
  {
   "cell_type": "code",
   "execution_count": 7,
   "id": "0c138600",
   "metadata": {},
   "outputs": [
    {
     "name": "stdout",
     "output_type": "stream",
     "text": [
      "Age                       0\n",
      "Annual Income (k$)        2\n",
      "CustomerID                0\n",
      "Gender                    0\n",
      "Spending Score (1-100)    0\n",
      "dtype: int64\n"
     ]
    }
   ],
   "source": [
    "# Finding ouliers by function\n",
    "\n",
    "Q1 = df.quantile(0.25)\n",
    "Q3 = df.quantile(0.75) \n",
    "IQR = Q3 - Q1\n",
    "\n",
    "lower_tail = Q1 - 1.5 * IQR\n",
    "upper_tail = Q3 + 1.5 * IQR\n",
    "\n",
    "ouliers = (df < lower_tail) | (df > upper_tail)\n",
    "ouliers_count = ouliers.sum()\n",
    "print(ouliers_count)"
   ]
  },
  {
   "cell_type": "code",
   "execution_count": 8,
   "id": "4453139b",
   "metadata": {
    "scrolled": true
   },
   "outputs": [
    {
     "data": {
      "text/plain": [
       "0       15\n",
       "1       15\n",
       "2       16\n",
       "3       16\n",
       "4       17\n",
       "      ... \n",
       "195    120\n",
       "196    126\n",
       "197    126\n",
       "198    137\n",
       "199    137\n",
       "Name: Annual Income (k$), Length: 200, dtype: int64"
      ]
     },
     "execution_count": 8,
     "metadata": {},
     "output_type": "execute_result"
    }
   ],
   "source": [
    "df[\"Annual Income (k$)\"]"
   ]
  },
  {
   "cell_type": "code",
   "execution_count": 9,
   "id": "7ce9130a",
   "metadata": {},
   "outputs": [
    {
     "name": "stdout",
     "output_type": "stream",
     "text": [
      "-13.25\n",
      "132.75\n"
     ]
    }
   ],
   "source": [
    "# To replace outliers\n",
    "def Finding_outliar1(df,columns):\n",
    "    for column in columns:\n",
    "            q1 = df[column].quantile(0.25)\n",
    "            q3 = df[column].quantile(0.75)\n",
    "            iqr = q3 - q1\n",
    "\n",
    "            lower_tail1 = q1 - 1.5 * iqr\n",
    "            upper_tail1 = q3 + 1.5 * iqr\n",
    "            print(lower_tail1)\n",
    "            print(upper_tail1)\n",
    "            \n",
    "            df[column] = df[column].apply(lambda x : upper_tail1 if x > upper_tail1 else (lower_tail1 if x < lower_tail1 else x))\n",
    "columns = [\"Annual Income (k$)\"]\n",
    "\n",
    "Finding_outliar1(df,columns)"
   ]
  },
  {
   "cell_type": "markdown",
   "id": "2455e418",
   "metadata": {},
   "source": [
    "### Scaling By StandardScaler"
   ]
  },
  {
   "cell_type": "code",
   "execution_count": 10,
   "id": "8d0ad7aa",
   "metadata": {},
   "outputs": [
    {
     "data": {
      "text/html": [
       "<div>\n",
       "<style scoped>\n",
       "    .dataframe tbody tr th:only-of-type {\n",
       "        vertical-align: middle;\n",
       "    }\n",
       "\n",
       "    .dataframe tbody tr th {\n",
       "        vertical-align: top;\n",
       "    }\n",
       "\n",
       "    .dataframe thead th {\n",
       "        text-align: right;\n",
       "    }\n",
       "</style>\n",
       "<table border=\"1\" class=\"dataframe\">\n",
       "  <thead>\n",
       "    <tr style=\"text-align: right;\">\n",
       "      <th></th>\n",
       "      <th>Age</th>\n",
       "      <th>Annual Income (k$)</th>\n",
       "      <th>Spending Score (1-100)</th>\n",
       "    </tr>\n",
       "  </thead>\n",
       "  <tbody>\n",
       "    <tr>\n",
       "      <th>0</th>\n",
       "      <td>19</td>\n",
       "      <td>15.0</td>\n",
       "      <td>39</td>\n",
       "    </tr>\n",
       "    <tr>\n",
       "      <th>1</th>\n",
       "      <td>21</td>\n",
       "      <td>15.0</td>\n",
       "      <td>81</td>\n",
       "    </tr>\n",
       "    <tr>\n",
       "      <th>2</th>\n",
       "      <td>20</td>\n",
       "      <td>16.0</td>\n",
       "      <td>6</td>\n",
       "    </tr>\n",
       "    <tr>\n",
       "      <th>3</th>\n",
       "      <td>23</td>\n",
       "      <td>16.0</td>\n",
       "      <td>77</td>\n",
       "    </tr>\n",
       "    <tr>\n",
       "      <th>4</th>\n",
       "      <td>31</td>\n",
       "      <td>17.0</td>\n",
       "      <td>40</td>\n",
       "    </tr>\n",
       "  </tbody>\n",
       "</table>\n",
       "</div>"
      ],
      "text/plain": [
       "   Age  Annual Income (k$)  Spending Score (1-100)\n",
       "0   19                15.0                      39\n",
       "1   21                15.0                      81\n",
       "2   20                16.0                       6\n",
       "3   23                16.0                      77\n",
       "4   31                17.0                      40"
      ]
     },
     "execution_count": 10,
     "metadata": {},
     "output_type": "execute_result"
    }
   ],
   "source": [
    "df_new = df[[\"Age\", \"Annual Income (k$)\", \"Spending Score (1-100)\"]]\n",
    "df_new.head()"
   ]
  },
  {
   "cell_type": "code",
   "execution_count": 11,
   "id": "d8adb5cb",
   "metadata": {},
   "outputs": [
    {
     "data": {
      "text/html": [
       "<div>\n",
       "<style scoped>\n",
       "    .dataframe tbody tr th:only-of-type {\n",
       "        vertical-align: middle;\n",
       "    }\n",
       "\n",
       "    .dataframe tbody tr th {\n",
       "        vertical-align: top;\n",
       "    }\n",
       "\n",
       "    .dataframe thead th {\n",
       "        text-align: right;\n",
       "    }\n",
       "</style>\n",
       "<table border=\"1\" class=\"dataframe\">\n",
       "  <thead>\n",
       "    <tr style=\"text-align: right;\">\n",
       "      <th></th>\n",
       "      <th>Age</th>\n",
       "      <th>Annual Income (k$)</th>\n",
       "      <th>Spending Score (1-100)</th>\n",
       "    </tr>\n",
       "  </thead>\n",
       "  <tbody>\n",
       "    <tr>\n",
       "      <th>0</th>\n",
       "      <td>-1.424569</td>\n",
       "      <td>-1.745429</td>\n",
       "      <td>-0.434801</td>\n",
       "    </tr>\n",
       "    <tr>\n",
       "      <th>1</th>\n",
       "      <td>-1.281035</td>\n",
       "      <td>-1.745429</td>\n",
       "      <td>1.195704</td>\n",
       "    </tr>\n",
       "    <tr>\n",
       "      <th>2</th>\n",
       "      <td>-1.352802</td>\n",
       "      <td>-1.707083</td>\n",
       "      <td>-1.715913</td>\n",
       "    </tr>\n",
       "    <tr>\n",
       "      <th>3</th>\n",
       "      <td>-1.137502</td>\n",
       "      <td>-1.707083</td>\n",
       "      <td>1.040418</td>\n",
       "    </tr>\n",
       "    <tr>\n",
       "      <th>4</th>\n",
       "      <td>-0.563369</td>\n",
       "      <td>-1.668737</td>\n",
       "      <td>-0.395980</td>\n",
       "    </tr>\n",
       "  </tbody>\n",
       "</table>\n",
       "</div>"
      ],
      "text/plain": [
       "        Age  Annual Income (k$)  Spending Score (1-100)\n",
       "0 -1.424569           -1.745429               -0.434801\n",
       "1 -1.281035           -1.745429                1.195704\n",
       "2 -1.352802           -1.707083               -1.715913\n",
       "3 -1.137502           -1.707083                1.040418\n",
       "4 -0.563369           -1.668737               -0.395980"
      ]
     },
     "execution_count": 11,
     "metadata": {},
     "output_type": "execute_result"
    }
   ],
   "source": [
    "Std = StandardScaler()\n",
    "Standard_array = Std.fit_transform(df_new)\n",
    "Df_Std = pd.DataFrame(Standard_array, columns = df_new.columns)\n",
    "Df_Std.head()"
   ]
  },
  {
   "cell_type": "markdown",
   "id": "e1a0a03d",
   "metadata": {},
   "source": [
    "#  5.Model Training"
   ]
  },
  {
   "cell_type": "markdown",
   "id": "1bbe3970",
   "metadata": {},
   "source": [
    "## 2D Clustering based on Age and Spending Score"
   ]
  },
  {
   "cell_type": "code",
   "execution_count": 12,
   "id": "53b0fc11",
   "metadata": {},
   "outputs": [
    {
     "data": {
      "text/html": [
       "<div>\n",
       "<style scoped>\n",
       "    .dataframe tbody tr th:only-of-type {\n",
       "        vertical-align: middle;\n",
       "    }\n",
       "\n",
       "    .dataframe tbody tr th {\n",
       "        vertical-align: top;\n",
       "    }\n",
       "\n",
       "    .dataframe thead th {\n",
       "        text-align: right;\n",
       "    }\n",
       "</style>\n",
       "<table border=\"1\" class=\"dataframe\">\n",
       "  <thead>\n",
       "    <tr style=\"text-align: right;\">\n",
       "      <th></th>\n",
       "      <th>Age</th>\n",
       "      <th>Spending Score (1-100)</th>\n",
       "    </tr>\n",
       "  </thead>\n",
       "  <tbody>\n",
       "    <tr>\n",
       "      <th>0</th>\n",
       "      <td>-1.424569</td>\n",
       "      <td>-0.434801</td>\n",
       "    </tr>\n",
       "    <tr>\n",
       "      <th>1</th>\n",
       "      <td>-1.281035</td>\n",
       "      <td>1.195704</td>\n",
       "    </tr>\n",
       "    <tr>\n",
       "      <th>2</th>\n",
       "      <td>-1.352802</td>\n",
       "      <td>-1.715913</td>\n",
       "    </tr>\n",
       "    <tr>\n",
       "      <th>3</th>\n",
       "      <td>-1.137502</td>\n",
       "      <td>1.040418</td>\n",
       "    </tr>\n",
       "    <tr>\n",
       "      <th>4</th>\n",
       "      <td>-0.563369</td>\n",
       "      <td>-0.395980</td>\n",
       "    </tr>\n",
       "    <tr>\n",
       "      <th>...</th>\n",
       "      <td>...</td>\n",
       "      <td>...</td>\n",
       "    </tr>\n",
       "    <tr>\n",
       "      <th>195</th>\n",
       "      <td>-0.276302</td>\n",
       "      <td>1.118061</td>\n",
       "    </tr>\n",
       "    <tr>\n",
       "      <th>196</th>\n",
       "      <td>0.441365</td>\n",
       "      <td>-0.861839</td>\n",
       "    </tr>\n",
       "    <tr>\n",
       "      <th>197</th>\n",
       "      <td>-0.491602</td>\n",
       "      <td>0.923953</td>\n",
       "    </tr>\n",
       "    <tr>\n",
       "      <th>198</th>\n",
       "      <td>-0.491602</td>\n",
       "      <td>-1.250054</td>\n",
       "    </tr>\n",
       "    <tr>\n",
       "      <th>199</th>\n",
       "      <td>-0.635135</td>\n",
       "      <td>1.273347</td>\n",
       "    </tr>\n",
       "  </tbody>\n",
       "</table>\n",
       "<p>200 rows × 2 columns</p>\n",
       "</div>"
      ],
      "text/plain": [
       "          Age  Spending Score (1-100)\n",
       "0   -1.424569               -0.434801\n",
       "1   -1.281035                1.195704\n",
       "2   -1.352802               -1.715913\n",
       "3   -1.137502                1.040418\n",
       "4   -0.563369               -0.395980\n",
       "..        ...                     ...\n",
       "195 -0.276302                1.118061\n",
       "196  0.441365               -0.861839\n",
       "197 -0.491602                0.923953\n",
       "198 -0.491602               -1.250054\n",
       "199 -0.635135                1.273347\n",
       "\n",
       "[200 rows x 2 columns]"
      ]
     },
     "execution_count": 12,
     "metadata": {},
     "output_type": "execute_result"
    }
   ],
   "source": [
    "x = Df_Std[[\"Age\",\"Spending Score (1-100)\"]]\n",
    "x"
   ]
  },
  {
   "cell_type": "code",
   "execution_count": 13,
   "id": "37c9221d",
   "metadata": {
    "scrolled": false
   },
   "outputs": [
    {
     "data": {
      "text/plain": [
       "<Axes: xlabel='Age', ylabel='Spending Score (1-100)'>"
      ]
     },
     "execution_count": 13,
     "metadata": {},
     "output_type": "execute_result"
    },
    {
     "data": {
      "image/png": "[encoded data removed]",
      "text/plain": [
       "<Figure size 640x480 with 1 Axes>"
      ]
     },
     "metadata": {},
     "output_type": "display_data"
    }
   ],
   "source": [
    "sns.scatterplot(x = Df_Std[\"Age\"],y = Df_Std[\"Spending Score (1-100)\"])"
   ]
  },
  {
   "cell_type": "markdown",
   "id": "0d50545f",
   "metadata": {},
   "source": [
    "## Elbow Method To find best K"
   ]
  },
  {
   "cell_type": "code",
   "execution_count": 14,
   "id": "bfba9729",
   "metadata": {},
   "outputs": [],
   "source": [
    "wcss_list = []\n",
    "k = np.arange(1,10)\n",
    "\n",
    "for i in k:\n",
    "    kmeans = KMeans(i)\n",
    "    kmeans.fit(x)\n",
    "    kmeans.predict(x)\n",
    "    wcss = kmeans.inertia_\n",
    "    wcss_list.append(wcss)"
   ]
  },
  {
   "cell_type": "code",
   "execution_count": 15,
   "id": "a65bf23b",
   "metadata": {},
   "outputs": [
    {
     "data": {
      "text/plain": [
       "[400.0,\n",
       " 189.3874903399243,\n",
       " 124.32628617921529,\n",
       " 89.7652167658615,\n",
       " 71.09364141459413,\n",
       " 53.128438356294,\n",
       " 45.922875914918286,\n",
       " 40.135543010776836,\n",
       " 34.051541307362925]"
      ]
     },
     "execution_count": 15,
     "metadata": {},
     "output_type": "execute_result"
    }
   ],
   "source": [
    "wcss_list"
   ]
  },
  {
   "cell_type": "code",
   "execution_count": 16,
   "id": "66b424ce",
   "metadata": {},
   "outputs": [
    {
     "data": {
      "text/plain": [
       "Text(0.5, 1.0, 'ELBOW METHOD')"
      ]
     },
     "execution_count": 16,
     "metadata": {},
     "output_type": "execute_result"
    },
    {
     "data": {
      "image/png": "[encoded data removed]",
      "text/plain": [
       "<Figure size 640x480 with 1 Axes>"
      ]
     },
     "metadata": {},
     "output_type": "display_data"
    }
   ],
   "source": [
    "plt.plot(k,wcss_list)\n",
    "plt.xlabel(\"K values\")\n",
    "plt.ylabel(\"WCSS\")\n",
    "plt.title(\"ELBOW METHOD\")"
   ]
  },
  {
   "cell_type": "markdown",
   "id": "265d90fc",
   "metadata": {},
   "source": [
    "### Applying KMeans for k=5"
   ]
  },
  {
   "cell_type": "code",
   "execution_count": 17,
   "id": "b882f832",
   "metadata": {},
   "outputs": [
    {
     "data": {
      "text/html": [
       "<style>#sk-container-id-1 {color: black;background-color: white;}#sk-container-id-1 pre{padding: 0;}#sk-container-id-1 div.sk-toggleable {background-color: white;}#sk-container-id-1 label.sk-toggleable__label {cursor: pointer;display: block;width: 100%;margin-bottom: 0;padding: 0.3em;box-sizing: border-box;text-align: center;}#sk-container-id-1 label.sk-toggleable__label-arrow:before {content: \"▸\";float: left;margin-right: 0.25em;color: #696969;}#sk-container-id-1 label.sk-toggleable__label-arrow:hover:before {color: black;}#sk-container-id-1 div.sk-estimator:hover label.sk-toggleable__label-arrow:before {color: black;}#sk-container-id-1 div.sk-toggleable__content {max-height: 0;max-width: 0;overflow: hidden;text-align: left;background-color: #f0f8ff;}#sk-container-id-1 div.sk-toggleable__content pre {margin: 0.2em;color: black;border-radius: 0.25em;background-color: #f0f8ff;}#sk-container-id-1 input.sk-toggleable__control:checked~div.sk-toggleable__content {max-height: 200px;max-width: 100%;overflow: auto;}#sk-container-id-1 input.sk-toggleable__control:checked~label.sk-toggleable__label-arrow:before {content: \"▾\";}#sk-container-id-1 div.sk-estimator input.sk-toggleable__control:checked~label.sk-toggleable__label {background-color: #d4ebff;}#sk-container-id-1 div.sk-label input.sk-toggleable__control:checked~label.sk-toggleable__label {background-color: #d4ebff;}#sk-container-id-1 input.sk-hidden--visually {border: 0;clip: rect(1px 1px 1px 1px);clip: rect(1px, 1px, 1px, 1px);height: 1px;margin: -1px;overflow: hidden;padding: 0;position: absolute;width: 1px;}#sk-container-id-1 div.sk-estimator {font-family: monospace;background-color: #f0f8ff;border: 1px dotted black;border-radius: 0.25em;box-sizing: border-box;margin-bottom: 0.5em;}#sk-container-id-1 div.sk-estimator:hover {background-color: #d4ebff;}#sk-container-id-1 div.sk-parallel-item::after {content: \"\";width: 100%;border-bottom: 1px solid gray;flex-grow: 1;}#sk-container-id-1 div.sk-label:hover label.sk-toggleable__label {background-color: #d4ebff;}#sk-container-id-1 div.sk-serial::before {content: \"\";position: absolute;border-left: 1px solid gray;box-sizing: border-box;top: 0;bottom: 0;left: 50%;z-index: 0;}#sk-container-id-1 div.sk-serial {display: flex;flex-direction: column;align-items: center;background-color: white;padding-right: 0.2em;padding-left: 0.2em;position: relative;}#sk-container-id-1 div.sk-item {position: relative;z-index: 1;}#sk-container-id-1 div.sk-parallel {display: flex;align-items: stretch;justify-content: center;background-color: white;position: relative;}#sk-container-id-1 div.sk-item::before, #sk-container-id-1 div.sk-parallel-item::before {content: \"\";position: absolute;border-left: 1px solid gray;box-sizing: border-box;top: 0;bottom: 0;left: 50%;z-index: -1;}#sk-container-id-1 div.sk-parallel-item {display: flex;flex-direction: column;z-index: 1;position: relative;background-color: white;}#sk-container-id-1 div.sk-parallel-item:first-child::after {align-self: flex-end;width: 50%;}#sk-container-id-1 div.sk-parallel-item:last-child::after {align-self: flex-start;width: 50%;}#sk-container-id-1 div.sk-parallel-item:only-child::after {width: 0;}#sk-container-id-1 div.sk-dashed-wrapped {border: 1px dashed gray;margin: 0 0.4em 0.5em 0.4em;box-sizing: border-box;padding-bottom: 0.4em;background-color: white;}#sk-container-id-1 div.sk-label label {font-family: monospace;font-weight: bold;display: inline-block;line-height: 1.2em;}#sk-container-id-1 div.sk-label-container {text-align: center;}#sk-container-id-1 div.sk-container {/* jupyter's `normalize.less` sets `[hidden] { display: none; }` but bootstrap.min.css set `[hidden] { display: none !important; }` so we also need the `!important` here to be able to override the default hidden behavior on the sphinx rendered scikit-learn.org. See: https://github.com/scikit-learn/scikit-learn/issues/21755 */display: inline-block !important;position: relative;}#sk-container-id-1 div.sk-text-repr-fallback {display: none;}</style><div id=\"sk-container-id-1\" class=\"sk-top-container\"><div class=\"sk-text-repr-fallback\"><pre>KMeans(n_clusters=5)</pre><b>In a Jupyter environment, please rerun this cell to show the HTML representation or trust the notebook. <br />On GitHub, the HTML representation is unable to render, please try loading this page with nbviewer.org.</b></div><div class=\"sk-container\" hidden><div class=\"sk-item\"><div class=\"sk-estimator sk-toggleable\"><input class=\"sk-toggleable__control sk-hidden--visually\" id=\"sk-estimator-id-1\" type=\"checkbox\" checked><label for=\"sk-estimator-id-1\" class=\"sk-toggleable__label sk-toggleable__label-arrow\">KMeans</label><div class=\"sk-toggleable__content\"><pre>KMeans(n_clusters=5)</pre></div></div></div></div></div>"
      ],
      "text/plain": [
       "KMeans(n_clusters=5)"
      ]
     },
     "execution_count": 17,
     "metadata": {},
     "output_type": "execute_result"
    }
   ],
   "source": [
    "kmeans = KMeans(n_clusters=5)\n",
    "kmeans"
   ]
  },
  {
   "cell_type": "code",
   "execution_count": 18,
   "id": "b4943016",
   "metadata": {},
   "outputs": [
    {
     "data": {
      "text/html": [
       "<style>#sk-container-id-2 {color: black;background-color: white;}#sk-container-id-2 pre{padding: 0;}#sk-container-id-2 div.sk-toggleable {background-color: white;}#sk-container-id-2 label.sk-toggleable__label {cursor: pointer;display: block;width: 100%;margin-bottom: 0;padding: 0.3em;box-sizing: border-box;text-align: center;}#sk-container-id-2 label.sk-toggleable__label-arrow:before {content: \"▸\";float: left;margin-right: 0.25em;color: #696969;}#sk-container-id-2 label.sk-toggleable__label-arrow:hover:before {color: black;}#sk-container-id-2 div.sk-estimator:hover label.sk-toggleable__label-arrow:before {color: black;}#sk-container-id-2 div.sk-toggleable__content {max-height: 0;max-width: 0;overflow: hidden;text-align: left;background-color: #f0f8ff;}#sk-container-id-2 div.sk-toggleable__content pre {margin: 0.2em;color: black;border-radius: 0.25em;background-color: #f0f8ff;}#sk-container-id-2 input.sk-toggleable__control:checked~div.sk-toggleable__content {max-height: 200px;max-width: 100%;overflow: auto;}#sk-container-id-2 input.sk-toggleable__control:checked~label.sk-toggleable__label-arrow:before {content: \"▾\";}#sk-container-id-2 div.sk-estimator input.sk-toggleable__control:checked~label.sk-toggleable__label {background-color: #d4ebff;}#sk-container-id-2 div.sk-label input.sk-toggleable__control:checked~label.sk-toggleable__label {background-color: #d4ebff;}#sk-container-id-2 input.sk-hidden--visually {border: 0;clip: rect(1px 1px 1px 1px);clip: rect(1px, 1px, 1px, 1px);height: 1px;margin: -1px;overflow: hidden;padding: 0;position: absolute;width: 1px;}#sk-container-id-2 div.sk-estimator {font-family: monospace;background-color: #f0f8ff;border: 1px dotted black;border-radius: 0.25em;box-sizing: border-box;margin-bottom: 0.5em;}#sk-container-id-2 div.sk-estimator:hover {background-color: #d4ebff;}#sk-container-id-2 div.sk-parallel-item::after {content: \"\";width: 100%;border-bottom: 1px solid gray;flex-grow: 1;}#sk-container-id-2 div.sk-label:hover label.sk-toggleable__label {background-color: #d4ebff;}#sk-container-id-2 div.sk-serial::before {content: \"\";position: absolute;border-left: 1px solid gray;box-sizing: border-box;top: 0;bottom: 0;left: 50%;z-index: 0;}#sk-container-id-2 div.sk-serial {display: flex;flex-direction: column;align-items: center;background-color: white;padding-right: 0.2em;padding-left: 0.2em;position: relative;}#sk-container-id-2 div.sk-item {position: relative;z-index: 1;}#sk-container-id-2 div.sk-parallel {display: flex;align-items: stretch;justify-content: center;background-color: white;position: relative;}#sk-container-id-2 div.sk-item::before, #sk-container-id-2 div.sk-parallel-item::before {content: \"\";position: absolute;border-left: 1px solid gray;box-sizing: border-box;top: 0;bottom: 0;left: 50%;z-index: -1;}#sk-container-id-2 div.sk-parallel-item {display: flex;flex-direction: column;z-index: 1;position: relative;background-color: white;}#sk-container-id-2 div.sk-parallel-item:first-child::after {align-self: flex-end;width: 50%;}#sk-container-id-2 div.sk-parallel-item:last-child::after {align-self: flex-start;width: 50%;}#sk-container-id-2 div.sk-parallel-item:only-child::after {width: 0;}#sk-container-id-2 div.sk-dashed-wrapped {border: 1px dashed gray;margin: 0 0.4em 0.5em 0.4em;box-sizing: border-box;padding-bottom: 0.4em;background-color: white;}#sk-container-id-2 div.sk-label label {font-family: monospace;font-weight: bold;display: inline-block;line-height: 1.2em;}#sk-container-id-2 div.sk-label-container {text-align: center;}#sk-container-id-2 div.sk-container {/* jupyter's `normalize.less` sets `[hidden] { display: none; }` but bootstrap.min.css set `[hidden] { display: none !important; }` so we also need the `!important` here to be able to override the default hidden behavior on the sphinx rendered scikit-learn.org. See: https://github.com/scikit-learn/scikit-learn/issues/21755 */display: inline-block !important;position: relative;}#sk-container-id-2 div.sk-text-repr-fallback {display: none;}</style><div id=\"sk-container-id-2\" class=\"sk-top-container\"><div class=\"sk-text-repr-fallback\"><pre>KMeans(n_clusters=5)</pre><b>In a Jupyter environment, please rerun this cell to show the HTML representation or trust the notebook. <br />On GitHub, the HTML representation is unable to render, please try loading this page with nbviewer.org.</b></div><div class=\"sk-container\" hidden><div class=\"sk-item\"><div class=\"sk-estimator sk-toggleable\"><input class=\"sk-toggleable__control sk-hidden--visually\" id=\"sk-estimator-id-2\" type=\"checkbox\" checked><label for=\"sk-estimator-id-2\" class=\"sk-toggleable__label sk-toggleable__label-arrow\">KMeans</label><div class=\"sk-toggleable__content\"><pre>KMeans(n_clusters=5)</pre></div></div></div></div></div>"
      ],
      "text/plain": [
       "KMeans(n_clusters=5)"
      ]
     },
     "execution_count": 18,
     "metadata": {},
     "output_type": "execute_result"
    }
   ],
   "source": [
    "kmeans.fit(x)"
   ]
  },
  {
   "cell_type": "code",
   "execution_count": 19,
   "id": "90e6c6f1",
   "metadata": {},
   "outputs": [],
   "source": [
    "prediction = kmeans.predict(x)\n",
    "y = pd.DataFrame(prediction)"
   ]
  },
  {
   "cell_type": "code",
   "execution_count": 20,
   "id": "8f80e396",
   "metadata": {},
   "outputs": [
    {
     "data": {
      "text/html": [
       "<div>\n",
       "<style scoped>\n",
       "    .dataframe tbody tr th:only-of-type {\n",
       "        vertical-align: middle;\n",
       "    }\n",
       "\n",
       "    .dataframe tbody tr th {\n",
       "        vertical-align: top;\n",
       "    }\n",
       "\n",
       "    .dataframe thead th {\n",
       "        text-align: right;\n",
       "    }\n",
       "</style>\n",
       "<table border=\"1\" class=\"dataframe\">\n",
       "  <thead>\n",
       "    <tr style=\"text-align: right;\">\n",
       "      <th></th>\n",
       "      <th>0</th>\n",
       "    </tr>\n",
       "  </thead>\n",
       "  <tbody>\n",
       "    <tr>\n",
       "      <th>0</th>\n",
       "      <td>4</td>\n",
       "    </tr>\n",
       "    <tr>\n",
       "      <th>1</th>\n",
       "      <td>1</td>\n",
       "    </tr>\n",
       "    <tr>\n",
       "      <th>2</th>\n",
       "      <td>0</td>\n",
       "    </tr>\n",
       "    <tr>\n",
       "      <th>3</th>\n",
       "      <td>1</td>\n",
       "    </tr>\n",
       "    <tr>\n",
       "      <th>4</th>\n",
       "      <td>4</td>\n",
       "    </tr>\n",
       "    <tr>\n",
       "      <th>...</th>\n",
       "      <td>...</td>\n",
       "    </tr>\n",
       "    <tr>\n",
       "      <th>195</th>\n",
       "      <td>1</td>\n",
       "    </tr>\n",
       "    <tr>\n",
       "      <th>196</th>\n",
       "      <td>3</td>\n",
       "    </tr>\n",
       "    <tr>\n",
       "      <th>197</th>\n",
       "      <td>1</td>\n",
       "    </tr>\n",
       "    <tr>\n",
       "      <th>198</th>\n",
       "      <td>0</td>\n",
       "    </tr>\n",
       "    <tr>\n",
       "      <th>199</th>\n",
       "      <td>1</td>\n",
       "    </tr>\n",
       "  </tbody>\n",
       "</table>\n",
       "<p>200 rows × 1 columns</p>\n",
       "</div>"
      ],
      "text/plain": [
       "     0\n",
       "0    4\n",
       "1    1\n",
       "2    0\n",
       "3    1\n",
       "4    4\n",
       "..  ..\n",
       "195  1\n",
       "196  3\n",
       "197  1\n",
       "198  0\n",
       "199  1\n",
       "\n",
       "[200 rows x 1 columns]"
      ]
     },
     "execution_count": 20,
     "metadata": {},
     "output_type": "execute_result"
    }
   ],
   "source": [
    "y"
   ]
  },
  {
   "cell_type": "code",
   "execution_count": 21,
   "id": "69f3e065",
   "metadata": {},
   "outputs": [
    {
     "data": {
      "text/plain": [
       "<matplotlib.collections.PathCollection at 0x14c251db7f0>"
      ]
     },
     "execution_count": 21,
     "metadata": {},
     "output_type": "execute_result"
    },
    {
     "data": {
      "image/png": "[encoded data removed]",
      "text/plain": [
       "<Figure size 640x480 with 1 Axes>"
      ]
     },
     "metadata": {},
     "output_type": "display_data"
    }
   ],
   "source": [
    "plt.scatter(x = Df_Std[\"Age\"], y = Df_Std[\"Spending Score (1-100)\"],c=prediction,cmap=\"rainbow\")"
   ]
  },
  {
   "cell_type": "markdown",
   "id": "42259446",
   "metadata": {},
   "source": [
    "# 2D Clustering based on Annual Income and Spending Score"
   ]
  },
  {
   "cell_type": "code",
   "execution_count": 22,
   "id": "bad55127",
   "metadata": {
    "scrolled": false
   },
   "outputs": [
    {
     "data": {
      "text/html": [
       "<div>\n",
       "<style scoped>\n",
       "    .dataframe tbody tr th:only-of-type {\n",
       "        vertical-align: middle;\n",
       "    }\n",
       "\n",
       "    .dataframe tbody tr th {\n",
       "        vertical-align: top;\n",
       "    }\n",
       "\n",
       "    .dataframe thead th {\n",
       "        text-align: right;\n",
       "    }\n",
       "</style>\n",
       "<table border=\"1\" class=\"dataframe\">\n",
       "  <thead>\n",
       "    <tr style=\"text-align: right;\">\n",
       "      <th></th>\n",
       "      <th>Annual Income (k$)</th>\n",
       "      <th>Spending Score (1-100)</th>\n",
       "    </tr>\n",
       "  </thead>\n",
       "  <tbody>\n",
       "    <tr>\n",
       "      <th>0</th>\n",
       "      <td>-1.745429</td>\n",
       "      <td>-0.434801</td>\n",
       "    </tr>\n",
       "    <tr>\n",
       "      <th>1</th>\n",
       "      <td>-1.745429</td>\n",
       "      <td>1.195704</td>\n",
       "    </tr>\n",
       "    <tr>\n",
       "      <th>2</th>\n",
       "      <td>-1.707083</td>\n",
       "      <td>-1.715913</td>\n",
       "    </tr>\n",
       "    <tr>\n",
       "      <th>3</th>\n",
       "      <td>-1.707083</td>\n",
       "      <td>1.040418</td>\n",
       "    </tr>\n",
       "    <tr>\n",
       "      <th>4</th>\n",
       "      <td>-1.668737</td>\n",
       "      <td>-0.395980</td>\n",
       "    </tr>\n",
       "    <tr>\n",
       "      <th>...</th>\n",
       "      <td>...</td>\n",
       "      <td>...</td>\n",
       "    </tr>\n",
       "    <tr>\n",
       "      <th>195</th>\n",
       "      <td>2.280936</td>\n",
       "      <td>1.118061</td>\n",
       "    </tr>\n",
       "    <tr>\n",
       "      <th>196</th>\n",
       "      <td>2.511014</td>\n",
       "      <td>-0.861839</td>\n",
       "    </tr>\n",
       "    <tr>\n",
       "      <th>197</th>\n",
       "      <td>2.511014</td>\n",
       "      <td>0.923953</td>\n",
       "    </tr>\n",
       "    <tr>\n",
       "      <th>198</th>\n",
       "      <td>2.769852</td>\n",
       "      <td>-1.250054</td>\n",
       "    </tr>\n",
       "    <tr>\n",
       "      <th>199</th>\n",
       "      <td>2.769852</td>\n",
       "      <td>1.273347</td>\n",
       "    </tr>\n",
       "  </tbody>\n",
       "</table>\n",
       "<p>200 rows × 2 columns</p>\n",
       "</div>"
      ],
      "text/plain": [
       "     Annual Income (k$)  Spending Score (1-100)\n",
       "0             -1.745429               -0.434801\n",
       "1             -1.745429                1.195704\n",
       "2             -1.707083               -1.715913\n",
       "3             -1.707083                1.040418\n",
       "4             -1.668737               -0.395980\n",
       "..                  ...                     ...\n",
       "195            2.280936                1.118061\n",
       "196            2.511014               -0.861839\n",
       "197            2.511014                0.923953\n",
       "198            2.769852               -1.250054\n",
       "199            2.769852                1.273347\n",
       "\n",
       "[200 rows x 2 columns]"
      ]
     },
     "execution_count": 22,
     "metadata": {},
     "output_type": "execute_result"
    }
   ],
   "source": [
    "x1 = Df_Std[[\"Annual Income (k$)\",\"Spending Score (1-100)\"]]\n",
    "x1"
   ]
  },
  {
   "cell_type": "code",
   "execution_count": 23,
   "id": "3d039de8",
   "metadata": {},
   "outputs": [
    {
     "data": {
      "text/html": [
       "<div>\n",
       "<style scoped>\n",
       "    .dataframe tbody tr th:only-of-type {\n",
       "        vertical-align: middle;\n",
       "    }\n",
       "\n",
       "    .dataframe tbody tr th {\n",
       "        vertical-align: top;\n",
       "    }\n",
       "\n",
       "    .dataframe thead th {\n",
       "        text-align: right;\n",
       "    }\n",
       "</style>\n",
       "<table border=\"1\" class=\"dataframe\">\n",
       "  <thead>\n",
       "    <tr style=\"text-align: right;\">\n",
       "      <th></th>\n",
       "      <th>Annual Income (k$)</th>\n",
       "      <th>Spending Score (1-100)</th>\n",
       "    </tr>\n",
       "  </thead>\n",
       "  <tbody>\n",
       "    <tr>\n",
       "      <th>0</th>\n",
       "      <td>-1.745429</td>\n",
       "      <td>-0.434801</td>\n",
       "    </tr>\n",
       "    <tr>\n",
       "      <th>1</th>\n",
       "      <td>-1.745429</td>\n",
       "      <td>1.195704</td>\n",
       "    </tr>\n",
       "    <tr>\n",
       "      <th>2</th>\n",
       "      <td>-1.707083</td>\n",
       "      <td>-1.715913</td>\n",
       "    </tr>\n",
       "    <tr>\n",
       "      <th>3</th>\n",
       "      <td>-1.707083</td>\n",
       "      <td>1.040418</td>\n",
       "    </tr>\n",
       "    <tr>\n",
       "      <th>4</th>\n",
       "      <td>-1.668737</td>\n",
       "      <td>-0.395980</td>\n",
       "    </tr>\n",
       "    <tr>\n",
       "      <th>...</th>\n",
       "      <td>...</td>\n",
       "      <td>...</td>\n",
       "    </tr>\n",
       "    <tr>\n",
       "      <th>195</th>\n",
       "      <td>2.280936</td>\n",
       "      <td>1.118061</td>\n",
       "    </tr>\n",
       "    <tr>\n",
       "      <th>196</th>\n",
       "      <td>2.511014</td>\n",
       "      <td>-0.861839</td>\n",
       "    </tr>\n",
       "    <tr>\n",
       "      <th>197</th>\n",
       "      <td>2.511014</td>\n",
       "      <td>0.923953</td>\n",
       "    </tr>\n",
       "    <tr>\n",
       "      <th>198</th>\n",
       "      <td>2.769852</td>\n",
       "      <td>-1.250054</td>\n",
       "    </tr>\n",
       "    <tr>\n",
       "      <th>199</th>\n",
       "      <td>2.769852</td>\n",
       "      <td>1.273347</td>\n",
       "    </tr>\n",
       "  </tbody>\n",
       "</table>\n",
       "<p>200 rows × 2 columns</p>\n",
       "</div>"
      ],
      "text/plain": [
       "     Annual Income (k$)  Spending Score (1-100)\n",
       "0             -1.745429               -0.434801\n",
       "1             -1.745429                1.195704\n",
       "2             -1.707083               -1.715913\n",
       "3             -1.707083                1.040418\n",
       "4             -1.668737               -0.395980\n",
       "..                  ...                     ...\n",
       "195            2.280936                1.118061\n",
       "196            2.511014               -0.861839\n",
       "197            2.511014                0.923953\n",
       "198            2.769852               -1.250054\n",
       "199            2.769852                1.273347\n",
       "\n",
       "[200 rows x 2 columns]"
      ]
     },
     "execution_count": 23,
     "metadata": {},
     "output_type": "execute_result"
    }
   ],
   "source": [
    "x1"
   ]
  },
  {
   "cell_type": "code",
   "execution_count": 24,
   "id": "2588d735",
   "metadata": {},
   "outputs": [
    {
     "data": {
      "text/plain": [
       "<Axes: xlabel='Annual Income (k$)', ylabel='Spending Score (1-100)'>"
      ]
     },
     "execution_count": 24,
     "metadata": {},
     "output_type": "execute_result"
    },
    {
     "data": {
      "image/png": "[encoded data removed]",
      "text/plain": [
       "<Figure size 640x480 with 1 Axes>"
      ]
     },
     "metadata": {},
     "output_type": "display_data"
    }
   ],
   "source": [
    "sns.scatterplot(x = Df_Std[\"Annual Income (k$)\"],y = Df_Std[\"Spending Score (1-100)\"])"
   ]
  },
  {
   "cell_type": "markdown",
   "id": "d1ea6bdc",
   "metadata": {},
   "source": [
    "## Elbow Method To find best K"
   ]
  },
  {
   "cell_type": "code",
   "execution_count": 25,
   "id": "c2f5943e",
   "metadata": {},
   "outputs": [],
   "source": [
    "wcss_list_2 = []\n",
    "k = np.arange(1,9)\n",
    "\n",
    "for i in k:\n",
    "    k_means = KMeans(i)\n",
    "    k_means.fit(x1)\n",
    "    k_means.predict(x1)\n",
    "    wcss_2 = k_means.inertia_\n",
    "    wcss_list_2.append(wcss_2)"
   ]
  },
  {
   "cell_type": "code",
   "execution_count": 26,
   "id": "bb83db08",
   "metadata": {},
   "outputs": [
    {
     "data": {
      "text/plain": [
       "[399.99999999999994,\n",
       " 269.6936173537749,\n",
       " 157.1943482929361,\n",
       " 108.28964151330968,\n",
       " 64.76240242096694,\n",
       " 54.44120166943938,\n",
       " 44.42219180124724,\n",
       " 36.6978769216158]"
      ]
     },
     "execution_count": 26,
     "metadata": {},
     "output_type": "execute_result"
    }
   ],
   "source": [
    "wcss_list_2"
   ]
  },
  {
   "cell_type": "code",
   "execution_count": 27,
   "id": "de299e20",
   "metadata": {},
   "outputs": [
    {
     "data": {
      "text/plain": [
       "Text(0.5, 1.0, 'ELBOW METHOD')"
      ]
     },
     "execution_count": 27,
     "metadata": {},
     "output_type": "execute_result"
    },
    {
     "data": {
      "image/png": "[encoded data removed]",
      "text/plain": [
       "<Figure size 640x480 with 1 Axes>"
      ]
     },
     "metadata": {},
     "output_type": "display_data"
    }
   ],
   "source": [
    "plt.plot(k,wcss_list_2)\n",
    "plt.xlabel(\"K values\")\n",
    "plt.ylabel(\"WCSS\")\n",
    "plt.title(\"ELBOW METHOD\")"
   ]
  },
  {
   "cell_type": "markdown",
   "id": "6f7d5ff0",
   "metadata": {},
   "source": [
    "### Applying KMeans for k=5"
   ]
  },
  {
   "cell_type": "code",
   "execution_count": 28,
   "id": "8386c983",
   "metadata": {},
   "outputs": [
    {
     "data": {
      "text/html": [
       "<style>#sk-container-id-3 {color: black;background-color: white;}#sk-container-id-3 pre{padding: 0;}#sk-container-id-3 div.sk-toggleable {background-color: white;}#sk-container-id-3 label.sk-toggleable__label {cursor: pointer;display: block;width: 100%;margin-bottom: 0;padding: 0.3em;box-sizing: border-box;text-align: center;}#sk-container-id-3 label.sk-toggleable__label-arrow:before {content: \"▸\";float: left;margin-right: 0.25em;color: #696969;}#sk-container-id-3 label.sk-toggleable__label-arrow:hover:before {color: black;}#sk-container-id-3 div.sk-estimator:hover label.sk-toggleable__label-arrow:before {color: black;}#sk-container-id-3 div.sk-toggleable__content {max-height: 0;max-width: 0;overflow: hidden;text-align: left;background-color: #f0f8ff;}#sk-container-id-3 div.sk-toggleable__content pre {margin: 0.2em;color: black;border-radius: 0.25em;background-color: #f0f8ff;}#sk-container-id-3 input.sk-toggleable__control:checked~div.sk-toggleable__content {max-height: 200px;max-width: 100%;overflow: auto;}#sk-container-id-3 input.sk-toggleable__control:checked~label.sk-toggleable__label-arrow:before {content: \"▾\";}#sk-container-id-3 div.sk-estimator input.sk-toggleable__control:checked~label.sk-toggleable__label {background-color: #d4ebff;}#sk-container-id-3 div.sk-label input.sk-toggleable__control:checked~label.sk-toggleable__label {background-color: #d4ebff;}#sk-container-id-3 input.sk-hidden--visually {border: 0;clip: rect(1px 1px 1px 1px);clip: rect(1px, 1px, 1px, 1px);height: 1px;margin: -1px;overflow: hidden;padding: 0;position: absolute;width: 1px;}#sk-container-id-3 div.sk-estimator {font-family: monospace;background-color: #f0f8ff;border: 1px dotted black;border-radius: 0.25em;box-sizing: border-box;margin-bottom: 0.5em;}#sk-container-id-3 div.sk-estimator:hover {background-color: #d4ebff;}#sk-container-id-3 div.sk-parallel-item::after {content: \"\";width: 100%;border-bottom: 1px solid gray;flex-grow: 1;}#sk-container-id-3 div.sk-label:hover label.sk-toggleable__label {background-color: #d4ebff;}#sk-container-id-3 div.sk-serial::before {content: \"\";position: absolute;border-left: 1px solid gray;box-sizing: border-box;top: 0;bottom: 0;left: 50%;z-index: 0;}#sk-container-id-3 div.sk-serial {display: flex;flex-direction: column;align-items: center;background-color: white;padding-right: 0.2em;padding-left: 0.2em;position: relative;}#sk-container-id-3 div.sk-item {position: relative;z-index: 1;}#sk-container-id-3 div.sk-parallel {display: flex;align-items: stretch;justify-content: center;background-color: white;position: relative;}#sk-container-id-3 div.sk-item::before, #sk-container-id-3 div.sk-parallel-item::before {content: \"\";position: absolute;border-left: 1px solid gray;box-sizing: border-box;top: 0;bottom: 0;left: 50%;z-index: -1;}#sk-container-id-3 div.sk-parallel-item {display: flex;flex-direction: column;z-index: 1;position: relative;background-color: white;}#sk-container-id-3 div.sk-parallel-item:first-child::after {align-self: flex-end;width: 50%;}#sk-container-id-3 div.sk-parallel-item:last-child::after {align-self: flex-start;width: 50%;}#sk-container-id-3 div.sk-parallel-item:only-child::after {width: 0;}#sk-container-id-3 div.sk-dashed-wrapped {border: 1px dashed gray;margin: 0 0.4em 0.5em 0.4em;box-sizing: border-box;padding-bottom: 0.4em;background-color: white;}#sk-container-id-3 div.sk-label label {font-family: monospace;font-weight: bold;display: inline-block;line-height: 1.2em;}#sk-container-id-3 div.sk-label-container {text-align: center;}#sk-container-id-3 div.sk-container {/* jupyter's `normalize.less` sets `[hidden] { display: none; }` but bootstrap.min.css set `[hidden] { display: none !important; }` so we also need the `!important` here to be able to override the default hidden behavior on the sphinx rendered scikit-learn.org. See: https://github.com/scikit-learn/scikit-learn/issues/21755 */display: inline-block !important;position: relative;}#sk-container-id-3 div.sk-text-repr-fallback {display: none;}</style><div id=\"sk-container-id-3\" class=\"sk-top-container\"><div class=\"sk-text-repr-fallback\"><pre>KMeans(n_clusters=5)</pre><b>In a Jupyter environment, please rerun this cell to show the HTML representation or trust the notebook. <br />On GitHub, the HTML representation is unable to render, please try loading this page with nbviewer.org.</b></div><div class=\"sk-container\" hidden><div class=\"sk-item\"><div class=\"sk-estimator sk-toggleable\"><input class=\"sk-toggleable__control sk-hidden--visually\" id=\"sk-estimator-id-3\" type=\"checkbox\" checked><label for=\"sk-estimator-id-3\" class=\"sk-toggleable__label sk-toggleable__label-arrow\">KMeans</label><div class=\"sk-toggleable__content\"><pre>KMeans(n_clusters=5)</pre></div></div></div></div></div>"
      ],
      "text/plain": [
       "KMeans(n_clusters=5)"
      ]
     },
     "execution_count": 28,
     "metadata": {},
     "output_type": "execute_result"
    }
   ],
   "source": [
    "kmeans2 = KMeans(n_clusters=5)\n",
    "kmeans2"
   ]
  },
  {
   "cell_type": "code",
   "execution_count": 29,
   "id": "0fe64f44",
   "metadata": {},
   "outputs": [
    {
     "data": {
      "text/html": [
       "<style>#sk-container-id-4 {color: black;background-color: white;}#sk-container-id-4 pre{padding: 0;}#sk-container-id-4 div.sk-toggleable {background-color: white;}#sk-container-id-4 label.sk-toggleable__label {cursor: pointer;display: block;width: 100%;margin-bottom: 0;padding: 0.3em;box-sizing: border-box;text-align: center;}#sk-container-id-4 label.sk-toggleable__label-arrow:before {content: \"▸\";float: left;margin-right: 0.25em;color: #696969;}#sk-container-id-4 label.sk-toggleable__label-arrow:hover:before {color: black;}#sk-container-id-4 div.sk-estimator:hover label.sk-toggleable__label-arrow:before {color: black;}#sk-container-id-4 div.sk-toggleable__content {max-height: 0;max-width: 0;overflow: hidden;text-align: left;background-color: #f0f8ff;}#sk-container-id-4 div.sk-toggleable__content pre {margin: 0.2em;color: black;border-radius: 0.25em;background-color: #f0f8ff;}#sk-container-id-4 input.sk-toggleable__control:checked~div.sk-toggleable__content {max-height: 200px;max-width: 100%;overflow: auto;}#sk-container-id-4 input.sk-toggleable__control:checked~label.sk-toggleable__label-arrow:before {content: \"▾\";}#sk-container-id-4 div.sk-estimator input.sk-toggleable__control:checked~label.sk-toggleable__label {background-color: #d4ebff;}#sk-container-id-4 div.sk-label input.sk-toggleable__control:checked~label.sk-toggleable__label {background-color: #d4ebff;}#sk-container-id-4 input.sk-hidden--visually {border: 0;clip: rect(1px 1px 1px 1px);clip: rect(1px, 1px, 1px, 1px);height: 1px;margin: -1px;overflow: hidden;padding: 0;position: absolute;width: 1px;}#sk-container-id-4 div.sk-estimator {font-family: monospace;background-color: #f0f8ff;border: 1px dotted black;border-radius: 0.25em;box-sizing: border-box;margin-bottom: 0.5em;}#sk-container-id-4 div.sk-estimator:hover {background-color: #d4ebff;}#sk-container-id-4 div.sk-parallel-item::after {content: \"\";width: 100%;border-bottom: 1px solid gray;flex-grow: 1;}#sk-container-id-4 div.sk-label:hover label.sk-toggleable__label {background-color: #d4ebff;}#sk-container-id-4 div.sk-serial::before {content: \"\";position: absolute;border-left: 1px solid gray;box-sizing: border-box;top: 0;bottom: 0;left: 50%;z-index: 0;}#sk-container-id-4 div.sk-serial {display: flex;flex-direction: column;align-items: center;background-color: white;padding-right: 0.2em;padding-left: 0.2em;position: relative;}#sk-container-id-4 div.sk-item {position: relative;z-index: 1;}#sk-container-id-4 div.sk-parallel {display: flex;align-items: stretch;justify-content: center;background-color: white;position: relative;}#sk-container-id-4 div.sk-item::before, #sk-container-id-4 div.sk-parallel-item::before {content: \"\";position: absolute;border-left: 1px solid gray;box-sizing: border-box;top: 0;bottom: 0;left: 50%;z-index: -1;}#sk-container-id-4 div.sk-parallel-item {display: flex;flex-direction: column;z-index: 1;position: relative;background-color: white;}#sk-container-id-4 div.sk-parallel-item:first-child::after {align-self: flex-end;width: 50%;}#sk-container-id-4 div.sk-parallel-item:last-child::after {align-self: flex-start;width: 50%;}#sk-container-id-4 div.sk-parallel-item:only-child::after {width: 0;}#sk-container-id-4 div.sk-dashed-wrapped {border: 1px dashed gray;margin: 0 0.4em 0.5em 0.4em;box-sizing: border-box;padding-bottom: 0.4em;background-color: white;}#sk-container-id-4 div.sk-label label {font-family: monospace;font-weight: bold;display: inline-block;line-height: 1.2em;}#sk-container-id-4 div.sk-label-container {text-align: center;}#sk-container-id-4 div.sk-container {/* jupyter's `normalize.less` sets `[hidden] { display: none; }` but bootstrap.min.css set `[hidden] { display: none !important; }` so we also need the `!important` here to be able to override the default hidden behavior on the sphinx rendered scikit-learn.org. See: https://github.com/scikit-learn/scikit-learn/issues/21755 */display: inline-block !important;position: relative;}#sk-container-id-4 div.sk-text-repr-fallback {display: none;}</style><div id=\"sk-container-id-4\" class=\"sk-top-container\"><div class=\"sk-text-repr-fallback\"><pre>KMeans(n_clusters=5)</pre><b>In a Jupyter environment, please rerun this cell to show the HTML representation or trust the notebook. <br />On GitHub, the HTML representation is unable to render, please try loading this page with nbviewer.org.</b></div><div class=\"sk-container\" hidden><div class=\"sk-item\"><div class=\"sk-estimator sk-toggleable\"><input class=\"sk-toggleable__control sk-hidden--visually\" id=\"sk-estimator-id-4\" type=\"checkbox\" checked><label for=\"sk-estimator-id-4\" class=\"sk-toggleable__label sk-toggleable__label-arrow\">KMeans</label><div class=\"sk-toggleable__content\"><pre>KMeans(n_clusters=5)</pre></div></div></div></div></div>"
      ],
      "text/plain": [
       "KMeans(n_clusters=5)"
      ]
     },
     "execution_count": 29,
     "metadata": {},
     "output_type": "execute_result"
    }
   ],
   "source": [
    "kmeans2.fit(x1)"
   ]
  },
  {
   "cell_type": "code",
   "execution_count": 30,
   "id": "87be4e5a",
   "metadata": {},
   "outputs": [],
   "source": [
    "prediction2 = kmeans2.predict(x1)\n",
    "y2 = pd.DataFrame(prediction2)"
   ]
  },
  {
   "cell_type": "code",
   "execution_count": 31,
   "id": "bd3c1c64",
   "metadata": {},
   "outputs": [
    {
     "data": {
      "text/html": [
       "<div>\n",
       "<style scoped>\n",
       "    .dataframe tbody tr th:only-of-type {\n",
       "        vertical-align: middle;\n",
       "    }\n",
       "\n",
       "    .dataframe tbody tr th {\n",
       "        vertical-align: top;\n",
       "    }\n",
       "\n",
       "    .dataframe thead th {\n",
       "        text-align: right;\n",
       "    }\n",
       "</style>\n",
       "<table border=\"1\" class=\"dataframe\">\n",
       "  <thead>\n",
       "    <tr style=\"text-align: right;\">\n",
       "      <th></th>\n",
       "      <th>0</th>\n",
       "    </tr>\n",
       "  </thead>\n",
       "  <tbody>\n",
       "    <tr>\n",
       "      <th>0</th>\n",
       "      <td>0</td>\n",
       "    </tr>\n",
       "    <tr>\n",
       "      <th>1</th>\n",
       "      <td>3</td>\n",
       "    </tr>\n",
       "    <tr>\n",
       "      <th>2</th>\n",
       "      <td>0</td>\n",
       "    </tr>\n",
       "    <tr>\n",
       "      <th>3</th>\n",
       "      <td>3</td>\n",
       "    </tr>\n",
       "    <tr>\n",
       "      <th>4</th>\n",
       "      <td>0</td>\n",
       "    </tr>\n",
       "    <tr>\n",
       "      <th>...</th>\n",
       "      <td>...</td>\n",
       "    </tr>\n",
       "    <tr>\n",
       "      <th>195</th>\n",
       "      <td>1</td>\n",
       "    </tr>\n",
       "    <tr>\n",
       "      <th>196</th>\n",
       "      <td>4</td>\n",
       "    </tr>\n",
       "    <tr>\n",
       "      <th>197</th>\n",
       "      <td>1</td>\n",
       "    </tr>\n",
       "    <tr>\n",
       "      <th>198</th>\n",
       "      <td>4</td>\n",
       "    </tr>\n",
       "    <tr>\n",
       "      <th>199</th>\n",
       "      <td>1</td>\n",
       "    </tr>\n",
       "  </tbody>\n",
       "</table>\n",
       "<p>200 rows × 1 columns</p>\n",
       "</div>"
      ],
      "text/plain": [
       "     0\n",
       "0    0\n",
       "1    3\n",
       "2    0\n",
       "3    3\n",
       "4    0\n",
       "..  ..\n",
       "195  1\n",
       "196  4\n",
       "197  1\n",
       "198  4\n",
       "199  1\n",
       "\n",
       "[200 rows x 1 columns]"
      ]
     },
     "execution_count": 31,
     "metadata": {},
     "output_type": "execute_result"
    }
   ],
   "source": [
    "y2"
   ]
  },
  {
   "cell_type": "code",
   "execution_count": 32,
   "id": "d74cb54b",
   "metadata": {},
   "outputs": [
    {
     "data": {
      "text/plain": [
       "<matplotlib.collections.PathCollection at 0x14c2578ec20>"
      ]
     },
     "execution_count": 32,
     "metadata": {},
     "output_type": "execute_result"
    },
    {
     "data": {
      "image/png": "[encoded data removed]",
      "text/plain": [
       "<Figure size 640x480 with 1 Axes>"
      ]
     },
     "metadata": {},
     "output_type": "display_data"
    }
   ],
   "source": [
    "plt.scatter(x = Df_Std[\"Annual Income (k$)\"], y = Df_Std[\"Spending Score (1-100)\"],c=prediction2,cmap=\"rainbow\")"
   ]
  },
  {
   "cell_type": "markdown",
   "id": "0b3ae81a",
   "metadata": {},
   "source": [
    "## 3D Clustering Age , Annual Income and Spending Score"
   ]
  },
  {
   "cell_type": "code",
   "execution_count": 33,
   "id": "a9d7395a",
   "metadata": {},
   "outputs": [
    {
     "data": {
      "text/html": [
       "<div>\n",
       "<style scoped>\n",
       "    .dataframe tbody tr th:only-of-type {\n",
       "        vertical-align: middle;\n",
       "    }\n",
       "\n",
       "    .dataframe tbody tr th {\n",
       "        vertical-align: top;\n",
       "    }\n",
       "\n",
       "    .dataframe thead th {\n",
       "        text-align: right;\n",
       "    }\n",
       "</style>\n",
       "<table border=\"1\" class=\"dataframe\">\n",
       "  <thead>\n",
       "    <tr style=\"text-align: right;\">\n",
       "      <th></th>\n",
       "      <th>Age</th>\n",
       "      <th>Annual Income (k$)</th>\n",
       "      <th>Spending Score (1-100)</th>\n",
       "    </tr>\n",
       "  </thead>\n",
       "  <tbody>\n",
       "    <tr>\n",
       "      <th>0</th>\n",
       "      <td>-1.424569</td>\n",
       "      <td>-1.745429</td>\n",
       "      <td>-0.434801</td>\n",
       "    </tr>\n",
       "    <tr>\n",
       "      <th>1</th>\n",
       "      <td>-1.281035</td>\n",
       "      <td>-1.745429</td>\n",
       "      <td>1.195704</td>\n",
       "    </tr>\n",
       "    <tr>\n",
       "      <th>2</th>\n",
       "      <td>-1.352802</td>\n",
       "      <td>-1.707083</td>\n",
       "      <td>-1.715913</td>\n",
       "    </tr>\n",
       "    <tr>\n",
       "      <th>3</th>\n",
       "      <td>-1.137502</td>\n",
       "      <td>-1.707083</td>\n",
       "      <td>1.040418</td>\n",
       "    </tr>\n",
       "    <tr>\n",
       "      <th>4</th>\n",
       "      <td>-0.563369</td>\n",
       "      <td>-1.668737</td>\n",
       "      <td>-0.395980</td>\n",
       "    </tr>\n",
       "    <tr>\n",
       "      <th>...</th>\n",
       "      <td>...</td>\n",
       "      <td>...</td>\n",
       "      <td>...</td>\n",
       "    </tr>\n",
       "    <tr>\n",
       "      <th>195</th>\n",
       "      <td>-0.276302</td>\n",
       "      <td>2.280936</td>\n",
       "      <td>1.118061</td>\n",
       "    </tr>\n",
       "    <tr>\n",
       "      <th>196</th>\n",
       "      <td>0.441365</td>\n",
       "      <td>2.511014</td>\n",
       "      <td>-0.861839</td>\n",
       "    </tr>\n",
       "    <tr>\n",
       "      <th>197</th>\n",
       "      <td>-0.491602</td>\n",
       "      <td>2.511014</td>\n",
       "      <td>0.923953</td>\n",
       "    </tr>\n",
       "    <tr>\n",
       "      <th>198</th>\n",
       "      <td>-0.491602</td>\n",
       "      <td>2.769852</td>\n",
       "      <td>-1.250054</td>\n",
       "    </tr>\n",
       "    <tr>\n",
       "      <th>199</th>\n",
       "      <td>-0.635135</td>\n",
       "      <td>2.769852</td>\n",
       "      <td>1.273347</td>\n",
       "    </tr>\n",
       "  </tbody>\n",
       "</table>\n",
       "<p>200 rows × 3 columns</p>\n",
       "</div>"
      ],
      "text/plain": [
       "          Age  Annual Income (k$)  Spending Score (1-100)\n",
       "0   -1.424569           -1.745429               -0.434801\n",
       "1   -1.281035           -1.745429                1.195704\n",
       "2   -1.352802           -1.707083               -1.715913\n",
       "3   -1.137502           -1.707083                1.040418\n",
       "4   -0.563369           -1.668737               -0.395980\n",
       "..        ...                 ...                     ...\n",
       "195 -0.276302            2.280936                1.118061\n",
       "196  0.441365            2.511014               -0.861839\n",
       "197 -0.491602            2.511014                0.923953\n",
       "198 -0.491602            2.769852               -1.250054\n",
       "199 -0.635135            2.769852                1.273347\n",
       "\n",
       "[200 rows x 3 columns]"
      ]
     },
     "execution_count": 33,
     "metadata": {},
     "output_type": "execute_result"
    }
   ],
   "source": [
    "Df_Std"
   ]
  },
  {
   "cell_type": "code",
   "execution_count": 34,
   "id": "b14df04b",
   "metadata": {},
   "outputs": [
    {
     "name": "stdout",
     "output_type": "stream",
     "text": [
      "          Age  Annual Income (k$)  Spending Score (1-100)  Cluster\n",
      "0   -1.424569           -1.745429               -0.434801        0\n",
      "1   -1.281035           -1.745429                1.195704        0\n",
      "2   -1.352802           -1.707083               -1.715913        0\n",
      "3   -1.137502           -1.707083                1.040418        0\n",
      "4   -0.563369           -1.668737               -0.395980        0\n",
      "..        ...                 ...                     ...      ...\n",
      "195 -0.276302            2.280936                1.118061        2\n",
      "196  0.441365            2.511014               -0.861839        1\n",
      "197 -0.491602            2.511014                0.923953        2\n",
      "198 -0.491602            2.769852               -1.250054        2\n",
      "199 -0.635135            2.769852                1.273347        2\n",
      "\n",
      "[200 rows x 4 columns]\n"
     ]
    }
   ],
   "source": [
    "Data = Df_Std[['Age', 'Annual Income (k$)', 'Spending Score (1-100)']]\n",
    "\n",
    "# Choose the number of clusters\n",
    "k = 3\n",
    "\n",
    "# Apply k-means clustering\n",
    "kmeans = KMeans(n_clusters=k)\n",
    "kmeans.fit(Data)\n",
    "\n",
    "# Add cluster labels to your DataFrame\n",
    "Df_Std['Cluster'] = kmeans.labels_\n",
    "\n",
    "# View the resulting DataFrame\n",
    "print(Df_Std)\n"
   ]
  },
  {
   "cell_type": "code",
   "execution_count": 35,
   "id": "33710218",
   "metadata": {},
   "outputs": [
    {
     "name": "stdout",
     "output_type": "stream",
     "text": [
      "Inertia: 295.18772472068514\n"
     ]
    }
   ],
   "source": [
    "print(\"Inertia:\", kmeans.inertia_)"
   ]
  },
  {
   "cell_type": "code",
   "execution_count": 36,
   "id": "8d6a98dc",
   "metadata": {},
   "outputs": [
    {
     "name": "stdout",
     "output_type": "stream",
     "text": [
      "Silhouette Score: 0.3574111960837928\n"
     ]
    }
   ],
   "source": [
    "silhouette_avg = silhouette_score(Data, kmeans.labels_)\n",
    "print(\"Silhouette Score:\", silhouette_avg)"
   ]
  },
  {
   "cell_type": "code",
   "execution_count": 37,
   "id": "85c8570f",
   "metadata": {
    "scrolled": true
   },
   "outputs": [
    {
     "name": "stdout",
     "output_type": "stream",
     "text": [
      "Requirement already satisfied: plotly in c:\\users\\hp\\anaconda3\\lib\\site-packages (5.9.0)\n",
      "Requirement already satisfied: tenacity>=6.2.0 in c:\\users\\hp\\anaconda3\\lib\\site-packages (from plotly) (8.0.1)\n",
      "Note: you may need to restart the kernel to use updated packages.\n"
     ]
    }
   ],
   "source": [
    "pip install plotly"
   ]
  },
  {
   "cell_type": "code",
   "execution_count": 41,
   "id": "cb1bdf4d",
   "metadata": {},
   "outputs": [
    {
     "data": {
      "application/vnd.plotly.v1+json": {
       "config": {
        "plotlyServerURL": "https://plot.ly"
       },
       "data": [
        {
         "hovertemplate": "Cluster=%{marker.color}<br>Age=%{x}<br>Annual Income (k$)=%{y}<br>Spending Score (1-100)=%{z}<extra></extra>",
         "legendgroup": "0",
         "marker": {
          "color": [
           0,
           0,
           0,
           0,
           0,
           0,
           0,
           0,
           0,
           0,
           0,
           0,
           0,
           0,
           0,
           0,
           0,
           0,
           0,
           0,
           0,
           0,
           0,
           0,
           0,
           0,
           0,
           0,
           0,
           0,
           0,
           0,
           0,
           0,
           0,
           0,
           0,
           0,
           0,
           0,
           0,
           0,
           0,
           0,
           0,
           0,
           0,
           0,
           0,
           0,
           0,
           0,
           0,
           0,
           0,
           0,
           0,
           0,
           0,
           0,
           0,
           0,
           0,
           0,
           0,
           0,
           0,
           0
          ],
          "coloraxis": "coloraxis",
          "symbol": "circle"
         },
         "mode": "markers",
         "name": "0",
         "scene": "scene",
         "showlegend": true,
         "type": "scatter3d",
         "x": [
          -1.4245687900521393,
          -1.2810354107017978,
          -1.3528021003769686,
          -1.1375020313514563,
          -0.5633685139500905,
          -1.209268721026627,
          -0.2763017552494075,
          -1.1375020313514563,
          -0.6351352036252612,
          -0.2763017552494075,
          -1.0657353416762856,
          -0.13276837589906598,
          -1.209268721026627,
          -0.2763017552494075,
          -1.3528021003769686,
          -0.2763017552494075,
          -0.2763017552494075,
          -0.9939686520011148,
          -0.5633685139500905,
          -0.706901893300432,
          -0.2763017552494075,
          0.08253169312644625,
          -1.1375020313514563,
          -1.2810354107017978,
          -1.49633547972731,
          -1.2810354107017978,
          -0.6351352036252612,
          -0.20453506557423673,
          -1.3528021003769686,
          -1.0657353416762856,
          -0.5633685139500905,
          -1.0657353416762856,
          -0.8504352726507735,
          -0.706901893300432,
          -0.5633685139500905,
          -0.41983513459974897,
          -0.5633685139500905,
          -0.8504352726507735,
          -1.4245687900521393,
          -1.49633547972731,
          -1.4245687900521393,
          -0.49160182427491966,
          -0.9222019623259441,
          -1.1375020313514563,
          -0.061001686223895235,
          -1.2810354107017978,
          -1.209268721026627,
          -0.3480684449245782,
          -1.49633547972731,
          -0.49160182427491966,
          -1.0657353416762856,
          -0.8504352726507735,
          -1.3528021003769686,
          -1.1375020313514563,
          -0.9222019623259441,
          -1.2810354107017978,
          -1.4245687900521393,
          -1.4245687900521393,
          -1.49633547972731,
          -1.4245687900521393,
          -0.8504352726507735,
          -1.1375020313514563,
          -0.9939686520011148,
          -1.3528021003769686,
          -1.4245687900521393,
          -0.7786685829756027,
          -0.9939686520011148,
          -1.4245687900521393
         ],
         "y": [
          -1.7454294073096774,
          -1.7454294073096774,
          -1.7070830700260025,
          -1.7070830700260025,
          -1.6687367327423273,
          -1.6687367327423273,
          -1.6303903954586523,
          -1.6303903954586523,
          -1.5920440581749773,
          -1.5920440581749773,
          -1.5536977208913023,
          -1.5536977208913023,
          -1.5536977208913023,
          -1.5153513836076273,
          -1.5153513836076273,
          -1.4386587090402774,
          -1.4003123717566022,
          -1.4003123717566022,
          -1.3619660344729272,
          -1.2469270226219022,
          -1.2469270226219022,
          -1.2085806853382273,
          -1.2085806853382273,
          -1.170234348054552,
          -1.0551953362035271,
          -1.0551953362035271,
          -1.0168489989198521,
          -0.9018099870688271,
          -0.9018099870688271,
          -0.8634636497851521,
          -0.825117312501477,
          -0.825117312501477,
          -0.786770975217802,
          -0.786770975217802,
          -0.786770975217802,
          -0.710078300650452,
          -0.671731963366777,
          -0.5566929515157519,
          -0.5566929515157519,
          -0.4800002769484019,
          -0.4800002769484019,
          -0.4800002769484019,
          -0.24992225324635184,
          -0.24992225324635184,
          -0.24992225324635184,
          -0.24992225324635184,
          -0.1348832413953268,
          -0.09653690411165178,
          -0.05819056682797677,
          -0.019844229544301754,
          -0.019844229544301754,
          -0.019844229544301754,
          0.01850210773937326,
          0.056848445023048276,
          0.056848445023048276,
          0.056848445023048276,
          0.09519478230672329,
          0.1335411195903983,
          0.1718874568740733,
          0.1718874568740733,
          0.24858013144142335,
          0.3636191432924484,
          0.4403118178597984,
          0.47865815514347343,
          0.5170044924271484,
          0.5936971669944985,
          0.6320435042781735,
          0.7854288534128735
         ],
         "z": [
          -0.43480147996914814,
          1.195704069915157,
          -1.7159129834496736,
          1.0404178270690327,
          -0.3959799192576171,
          1.0015962663575015,
          -1.7159129834496736,
          1.700384359165061,
          0.8463100235113773,
          1.8944921627227165,
          1.0404178270690327,
          -1.444162058468956,
          1.118060948492095,
          -0.5900877228152724,
          0.6133806592421909,
          1.8556706020111853,
          -0.5900877228152724,
          0.8851315842229084,
          0.8851315842229084,
          1.234525630626688,
          0.4192728556845355,
          -0.7453739656613968,
          1.4286334341843434,
          0.8851315842229084,
          1.622741237741999,
          1.195704069915157,
          0.8851315842229084,
          -0.9394817692190521,
          0.9627747056459706,
          1.622741237741999,
          0.4192728556845355,
          0.5745590985306598,
          -0.12422899427689955,
          -0.31833679783455493,
          -0.31833679783455493,
          0.38045129497300445,
          0.14752193070381797,
          0.03105724856922475,
          0.18634349141534906,
          0.34162973426147336,
          0.34162973426147336,
          -0.12422899427689955,
          0.14752193070381797,
          0.06987880928075582,
          0.18634349141534906,
          0.2639866128384112,
          0.18634349141534906,
          0.38045129497300445,
          -0.357158358546086,
          -0.31833679783455493,
          0.06987880928075582,
          -0.007764312142306325,
          -0.046585872853837404,
          -0.357158358546086,
          0.18634349141534906,
          -0.31833679783455493,
          0.14752193070381797,
          -0.16305055498843063,
          -0.08540743356536848,
          -0.007764312142306325,
          0.22516505212688012,
          -0.823017087084459,
          -0.6289092835268035,
          -1.7547345441612048,
          -1.5606267406035494,
          -0.3959799192576171,
          -1.4829836191804873,
          -1.7547345441612048
         ]
        },
        {
         "hovertemplate": "Cluster=%{marker.color}<br>Age=%{x}<br>Annual Income (k$)=%{y}<br>Spending Score (1-100)=%{z}<extra></extra>",
         "legendgroup": "1",
         "marker": {
          "color": [
           1,
           1,
           1,
           1,
           1,
           1,
           1,
           1,
           1,
           1,
           1,
           1,
           1,
           1,
           1,
           1,
           1,
           1,
           1,
           1,
           1,
           1,
           1,
           1,
           1,
           1,
           1,
           1,
           1,
           1,
           1,
           1,
           1,
           1,
           1,
           1,
           1,
           1,
           1,
           1,
           1,
           1,
           1,
           1,
           1,
           1,
           1,
           1,
           1,
           1,
           1,
           1,
           1,
           1,
           1,
           1,
           1,
           1,
           1,
           1,
           1,
           1,
           1,
           1,
           1,
           1,
           1,
           1,
           1,
           1,
           1,
           1,
           1,
           1,
           1,
           1,
           1,
           1,
           1,
           1,
           1,
           1,
           1,
           1,
           1,
           1,
           1,
           1,
           1,
           1,
           1
          ],
          "coloraxis": "coloraxis",
          "symbol": "diamond"
         },
         "mode": "markers",
         "name": "1",
         "scene": "scene",
         "showlegend": true,
         "type": "scatter3d",
         "x": [
          1.804932245330544,
          2.0202323143560563,
          1.3743321072795196,
          0.9437319692284951,
          0.5131318311774707,
          1.0872653485788366,
          0.44136514150229994,
          1.517865486629861,
          1.0154986589036659,
          0.728431900202983,
          0.22606507247678773,
          1.8766989350057148,
          0.6566652105278122,
          0.728431900202983,
          0.8001985898781537,
          0.728431900202983,
          1.4460987969546903,
          0.8001985898781537,
          0.5848985208526415,
          0.8719652795533244,
          2.163765693706398,
          1.0154986589036659,
          2.2355323833815683,
          2.0202323143560563,
          1.0872653485788366,
          1.7331655556553733,
          0.2978317621519585,
          2.091999004031227,
          2.2355323833815683,
          0.5848985208526415,
          1.517865486629861,
          1.517865486629861,
          1.4460987969546903,
          0.44136514150229994,
          0.08253169312644625,
          0.728431900202983,
          1.3025654176043489,
          2.0202323143560563,
          0.5131318311774707,
          0.6566652105278122,
          1.1590320382540074,
          0.8001985898781537,
          2.091999004031227,
          0.6566652105278122,
          0.08253169312644625,
          0.5848985208526415,
          0.6566652105278122,
          0.728431900202983,
          2.0202323143560563,
          0.728431900202983,
          1.9484656246808856,
          1.0872653485788366,
          2.091999004031227,
          1.9484656246808856,
          1.8766989350057148,
          -0.061001686223895235,
          1.7331655556553733,
          0.728431900202983,
          0.8719652795533244,
          0.8001985898781537,
          -0.061001686223895235,
          0.2978317621519585,
          1.4460987969546903,
          0.5848985208526415,
          0.36959845182712925,
          1.3025654176043489,
          0.6566652105278122,
          -0.3480684449245782,
          0.2978317621519585,
          0.36959845182712925,
          0.5848985208526415,
          -0.13276837589906598,
          -0.3480684449245782,
          1.230798727929178,
          0.8001985898781537,
          0.22606507247678773,
          -0.20453506557423673,
          0.08253169312644625,
          -0.20453506557423673,
          0.9437319692284951,
          1.3743321072795196,
          1.4460987969546903,
          -0.13276837589906598,
          0.5131318311774707,
          0.154298382801617,
          1.0872653485788366,
          0.154298382801617,
          -0.3480684449245782,
          -0.41983513459974897,
          0.5848985208526415,
          0.44136514150229994
         ],
         "y": [
          -1.5920440581749773,
          -1.5920440581749773,
          -1.5536977208913023,
          -1.4386587090402774,
          -1.3619660344729272,
          -1.2469270226219022,
          -1.2469270226219022,
          -1.170234348054552,
          -1.0551953362035271,
          -1.0551953362035271,
          -1.0168489989198521,
          -0.8634636497851521,
          -0.825117312501477,
          -0.825117312501477,
          -0.786770975217802,
          -0.710078300650452,
          -0.671731963366777,
          -0.671731963366777,
          -0.671731963366777,
          -0.633385626083102,
          -0.633385626083102,
          -0.5566929515157519,
          -0.5566929515157519,
          -0.518346614232077,
          -0.518346614232077,
          -0.4800002769484019,
          -0.4800002769484019,
          -0.4800002769484019,
          -0.4416539396647269,
          -0.4416539396647269,
          -0.4033076023810519,
          -0.4033076023810519,
          -0.24992225324635184,
          -0.24992225324635184,
          -0.24992225324635184,
          -0.24992225324635184,
          -0.24992225324635184,
          -0.24992225324635184,
          -0.24992225324635184,
          -0.24992225324635184,
          -0.1348832413953268,
          -0.09653690411165178,
          -0.05819056682797677,
          -0.019844229544301754,
          -0.019844229544301754,
          -0.019844229544301754,
          0.01850210773937326,
          0.056848445023048276,
          0.056848445023048276,
          0.056848445023048276,
          0.09519478230672329,
          0.09519478230672329,
          0.09519478230672329,
          0.09519478230672329,
          0.09519478230672329,
          0.1335411195903983,
          0.1718874568740733,
          0.1718874568740733,
          0.24858013144142335,
          0.24858013144142335,
          0.24858013144142335,
          0.4019654805761234,
          0.4019654805761234,
          0.4019654805761234,
          0.47865815514347343,
          0.5553508297108235,
          0.6320435042781735,
          0.6703898415618484,
          0.6703898415618484,
          0.6703898415618484,
          0.6703898415618484,
          0.6703898415618484,
          0.6703898415618484,
          0.7087361788455235,
          0.9388142025475736,
          0.9771605398312486,
          1.0155068771149236,
          1.0155068771149236,
          1.0155068771149236,
          1.0538532143985986,
          1.0538532143985986,
          1.2455849008169737,
          1.3989702499516738,
          1.4373165872353488,
          1.4756629245190238,
          1.5523555990863738,
          1.6290482736537237,
          1.6290482736537237,
          2.012511646490474,
          2.2809360074761993,
          2.511014031178249
         ],
         "z": [
          -1.832377665584267,
          -1.405340497757425,
          -1.3665189370458939,
          -0.823017087084459,
          -1.7547345441612048,
          -1.405340497757425,
          -0.7065524049498657,
          -1.7935561048727358,
          -1.7935561048727358,
          -1.405340497757425,
          -1.288875815622832,
          -0.5900877228152724,
          -0.5512661621037414,
          -0.86183864779599,
          0.18634349141534906,
          0.06987880928075582,
          0.38045129497300445,
          -0.20187211569996172,
          -0.357158358546086,
          -0.007764312142306325,
          -0.16305055498843063,
          -0.16305055498843063,
          0.22516505212688012,
          0.06987880928075582,
          0.34162973426147336,
          0.03105724856922475,
          -0.007764312142306325,
          -0.08540743356536848,
          0.18634349141534906,
          -0.31833679783455493,
          -0.046585872853837404,
          0.22516505212688012,
          -0.12422899427689955,
          0.1087003699922869,
          -0.08540743356536848,
          -0.31833679783455493,
          0.03105724856922475,
          -0.357158358546086,
          -0.24069367641149278,
          -0.16305055498843063,
          0.30280817354994227,
          -0.16305055498843063,
          0.18634349141534906,
          -0.046585872853837404,
          -0.3959799192576171,
          -0.12422899427689955,
          -0.31833679783455493,
          -0.08540743356536848,
          0.34162973426147336,
          0.22516505212688012,
          -0.007764312142306325,
          -0.16305055498843063,
          -0.27951523712302384,
          -0.08540743356536848,
          0.06987880928075582,
          -0.31833679783455493,
          -0.27951523712302384,
          0.34162973426147336,
          -0.27951523712302384,
          0.2639866128384112,
          -0.3959799192576171,
          -0.5900877228152724,
          -1.5218051798920182,
          -1.5994483013150804,
          -1.6770914227381426,
          -1.7547345441612048,
          -0.5512661621037414,
          -1.0947680120651764,
          -1.288875815622832,
          -1.1724111334882386,
          -1.327697376334363,
          -1.9100207870073291,
          -1.9100207870073291,
          -0.5900877228152724,
          -0.9394817692190521,
          -1.1724111334882386,
          -0.900660208507521,
          -1.444162058468956,
          -1.5606267406035494,
          -1.444162058468956,
          -1.3665189370458939,
          -1.405340497757425,
          -0.7065524049498657,
          -1.3665189370458939,
          -0.43480147996914814,
          -1.0171248906421142,
          -1.288875815622832,
          -1.0559464513536454,
          -1.6382698620266116,
          -1.327697376334363,
          -0.86183864779599
         ]
        },
        {
         "hovertemplate": "Cluster=%{marker.color}<br>Age=%{x}<br>Annual Income (k$)=%{y}<br>Spending Score (1-100)=%{z}<extra></extra>",
         "legendgroup": "2",
         "marker": {
          "color": [
           2,
           2,
           2,
           2,
           2,
           2,
           2,
           2,
           2,
           2,
           2,
           2,
           2,
           2,
           2,
           2,
           2,
           2,
           2,
           2,
           2,
           2,
           2,
           2,
           2,
           2,
           2,
           2,
           2,
           2,
           2,
           2,
           2,
           2,
           2,
           2,
           2,
           2,
           2,
           2,
           2
          ],
          "coloraxis": "coloraxis",
          "symbol": "square"
         },
         "mode": "markers",
         "name": "2",
         "scene": "scene",
         "showlegend": true,
         "type": "scatter3d",
         "x": [
          0.08253169312644625,
          0.010765003451275509,
          -0.5633685139500905,
          0.08253169312644625,
          -0.061001686223895235,
          0.010765003451275509,
          -0.5633685139500905,
          -0.706901893300432,
          -0.49160182427491966,
          -0.2763017552494075,
          -0.49160182427491966,
          -0.49160182427491966,
          -0.7786685829756027,
          -0.49160182427491966,
          -0.3480684449245782,
          0.010765003451275509,
          -0.061001686223895235,
          -0.8504352726507735,
          -0.6351352036252612,
          -0.6351352036252612,
          -0.706901893300432,
          -0.5633685139500905,
          -0.20453506557423673,
          -0.41983513459974897,
          -0.49160182427491966,
          -0.7786685829756027,
          -0.20453506557423673,
          -0.6351352036252612,
          -0.8504352726507735,
          -0.2763017552494075,
          -0.49160182427491966,
          -0.706901893300432,
          -0.6351352036252612,
          -0.7786685829756027,
          -0.20453506557423673,
          -0.49160182427491966,
          -0.061001686223895235,
          -0.2763017552494075,
          -0.49160182427491966,
          -0.49160182427491966,
          -0.6351352036252612
         ],
         "y": [
          0.3252728060087734,
          0.3252728060087734,
          0.3636191432924484,
          0.4019654805761234,
          0.4019654805761234,
          0.4019654805761234,
          0.4403118178597984,
          0.47865815514347343,
          0.47865815514347343,
          0.5170044924271484,
          0.5553508297108235,
          0.5936971669944985,
          0.6320435042781735,
          0.6320435042781735,
          0.6703898415618484,
          0.6703898415618484,
          0.6703898415618484,
          0.6703898415618484,
          0.6703898415618484,
          0.6703898415618484,
          0.7087361788455235,
          0.7854288534128735,
          0.9388142025475736,
          0.9771605398312486,
          1.0155068771149236,
          1.0155068771149236,
          1.0155068771149236,
          1.0538532143985986,
          1.0538532143985986,
          1.2455849008169737,
          1.3989702499516738,
          1.4373165872353488,
          1.4756629245190238,
          1.5523555990863738,
          1.6290482736537237,
          1.6290482736537237,
          2.012511646490474,
          2.2809360074761993,
          2.511014031178249,
          2.7698518078430556,
          2.7698518078430556
         ],
         "z": [
          0.30280817354994227,
          1.5839196770304678,
          1.0404178270690327,
          1.7392059198765921,
          0.9627747056459706,
          0.9627747056459706,
          0.8074884627998463,
          1.4674549948958746,
          0.8851315842229084,
          0.8463100235113773,
          1.66156279845353,
          1.4286334341843434,
          1.8168490412996543,
          0.9239531449344395,
          1.5450981163189368,
          1.4674549948958746,
          1.0015962663575015,
          1.5062765556074056,
          1.0792393877805637,
          0.8851315842229084,
          1.2733471913382193,
          1.66156279845353,
          0.9627747056459706,
          1.7392059198765921,
          0.49691597710759766,
          0.9627747056459706,
          1.622741237741999,
          1.3898118734728124,
          0.7298453413767841,
          1.5450981163189368,
          1.3898118734728124,
          1.4674549948958746,
          1.8168490412996543,
          0.691023780665253,
          1.3509903127612812,
          0.7298453413767841,
          1.5839196770304678,
          1.118060948492095,
          0.9239531449344395,
          -1.2500542549113007,
          1.2733471913382193
         ]
        }
       ],
       "layout": {
        "coloraxis": {
         "colorbar": {
          "title": {
           "text": "Cluster"
          }
         },
         "colorscale": [
          [
           0,
           "#0d0887"
          ],
          [
           0.1111111111111111,
           "#46039f"
          ],
          [
           0.2222222222222222,
           "#7201a8"
          ],
          [
           0.3333333333333333,
           "#9c179e"
          ],
          [
           0.4444444444444444,
           "#bd3786"
          ],
          [
           0.5555555555555556,
           "#d8576b"
          ],
          [
           0.6666666666666666,
           "#ed7953"
          ],
          [
           0.7777777777777778,
           "#fb9f3a"
          ],
          [
           0.8888888888888888,
           "#fdca26"
          ],
          [
           1,
           "#f0f921"
          ]
         ]
        },
        "height": 800,
        "legend": {
         "title": {
          "text": "Cluster"
         },
         "tracegroupgap": 0
        },
        "margin": {
         "t": 60
        },
        "scene": {
         "domain": {
          "x": [
           0,
           1
          ],
          "y": [
           0,
           1
          ]
         },
         "xaxis": {
          "nticks": 4,
          "range": [
           -1.49633547972731,
           2.2355323833815683
          ],
          "title": {
           "text": "Age"
          }
         },
         "yaxis": {
          "nticks": 4,
          "range": [
           -1.7454294073096774,
           2.7698518078430556
          ],
          "title": {
           "text": "Annual Income (k$)"
          }
         },
         "zaxis": {
          "nticks": 4,
          "range": [
           -1.9100207870073291,
           1.8944921627227165
          ],
          "title": {
           "text": "Spending Score (1-100)"
          }
         }
        },
        "template": {
         "data": {
          "bar": [
           {
            "error_x": {
             "color": "#2a3f5f"
            },
            "error_y": {
             "color": "#2a3f5f"
            },
            "marker": {
             "line": {
              "color": "#E5ECF6",
              "width": 0.5
             },
             "pattern": {
              "fillmode": "overlay",
              "size": 10,
              "solidity": 0.2
             }
            },
            "type": "bar"
           }
          ],
          "barpolar": [
           {
            "marker": {
             "line": {
              "color": "#E5ECF6",
              "width": 0.5
             },
             "pattern": {
              "fillmode": "overlay",
              "size": 10,
              "solidity": 0.2
             }
            },
            "type": "barpolar"
           }
          ],
          "carpet": [
           {
            "aaxis": {
             "endlinecolor": "#2a3f5f",
             "gridcolor": "white",
             "linecolor": "white",
             "minorgridcolor": "white",
             "startlinecolor": "#2a3f5f"
            },
            "baxis": {
             "endlinecolor": "#2a3f5f",
             "gridcolor": "white",
             "linecolor": "white",
             "minorgridcolor": "white",
             "startlinecolor": "#2a3f5f"
            },
            "type": "carpet"
           }
          ],
          "choropleth": [
           {
            "colorbar": {
             "outlinewidth": 0,
             "ticks": ""
            },
            "type": "choropleth"
           }
          ],
          "contour": [
           {
            "colorbar": {
             "outlinewidth": 0,
             "ticks": ""
            },
            "colorscale": [
             [
              0,
              "#0d0887"
             ],
             [
              0.1111111111111111,
              "#46039f"
             ],
             [
              0.2222222222222222,
              "#7201a8"
             ],
             [
              0.3333333333333333,
              "#9c179e"
             ],
             [
              0.4444444444444444,
              "#bd3786"
             ],
             [
              0.5555555555555556,
              "#d8576b"
             ],
             [
              0.6666666666666666,
              "#ed7953"
             ],
             [
              0.7777777777777778,
              "#fb9f3a"
             ],
             [
              0.8888888888888888,
              "#fdca26"
             ],
             [
              1,
              "#f0f921"
             ]
            ],
            "type": "contour"
           }
          ],
          "contourcarpet": [
           {
            "colorbar": {
             "outlinewidth": 0,
             "ticks": ""
            },
            "type": "contourcarpet"
           }
          ],
          "heatmap": [
           {
            "colorbar": {
             "outlinewidth": 0,
             "ticks": ""
            },
            "colorscale": [
             [
              0,
              "#0d0887"
             ],
             [
              0.1111111111111111,
              "#46039f"
             ],
             [
              0.2222222222222222,
              "#7201a8"
             ],
             [
              0.3333333333333333,
              "#9c179e"
             ],
             [
              0.4444444444444444,
              "#bd3786"
             ],
             [
              0.5555555555555556,
              "#d8576b"
             ],
             [
              0.6666666666666666,
              "#ed7953"
             ],
             [
              0.7777777777777778,
              "#fb9f3a"
             ],
             [
              0.8888888888888888,
              "#fdca26"
             ],
             [
              1,
              "#f0f921"
             ]
            ],
            "type": "heatmap"
           }
          ],
          "heatmapgl": [
           {
            "colorbar": {
             "outlinewidth": 0,
             "ticks": ""
            },
            "colorscale": [
             [
              0,
              "#0d0887"
             ],
             [
              0.1111111111111111,
              "#46039f"
             ],
             [
              0.2222222222222222,
              "#7201a8"
             ],
             [
              0.3333333333333333,
              "#9c179e"
             ],
             [
              0.4444444444444444,
              "#bd3786"
             ],
             [
              0.5555555555555556,
              "#d8576b"
             ],
             [
              0.6666666666666666,
              "#ed7953"
             ],
             [
              0.7777777777777778,
              "#fb9f3a"
             ],
             [
              0.8888888888888888,
              "#fdca26"
             ],
             [
              1,
              "#f0f921"
             ]
            ],
            "type": "heatmapgl"
           }
          ],
          "histogram": [
           {
            "marker": {
             "pattern": {
              "fillmode": "overlay",
              "size": 10,
              "solidity": 0.2
             }
            },
            "type": "histogram"
           }
          ],
          "histogram2d": [
           {
            "colorbar": {
             "outlinewidth": 0,
             "ticks": ""
            },
            "colorscale": [
             [
              0,
              "#0d0887"
             ],
             [
              0.1111111111111111,
              "#46039f"
             ],
             [
              0.2222222222222222,
              "#7201a8"
             ],
             [
              0.3333333333333333,
              "#9c179e"
             ],
             [
              0.4444444444444444,
              "#bd3786"
             ],
             [
              0.5555555555555556,
              "#d8576b"
             ],
             [
              0.6666666666666666,
              "#ed7953"
             ],
             [
              0.7777777777777778,
              "#fb9f3a"
             ],
             [
              0.8888888888888888,
              "#fdca26"
             ],
             [
              1,
              "#f0f921"
             ]
            ],
            "type": "histogram2d"
           }
          ],
          "histogram2dcontour": [
           {
            "colorbar": {
             "outlinewidth": 0,
             "ticks": ""
            },
            "colorscale": [
             [
              0,
              "#0d0887"
             ],
             [
              0.1111111111111111,
              "#46039f"
             ],
             [
              0.2222222222222222,
              "#7201a8"
             ],
             [
              0.3333333333333333,
              "#9c179e"
             ],
             [
              0.4444444444444444,
              "#bd3786"
             ],
             [
              0.5555555555555556,
              "#d8576b"
             ],
             [
              0.6666666666666666,
              "#ed7953"
             ],
             [
              0.7777777777777778,
              "#fb9f3a"
             ],
             [
              0.8888888888888888,
              "#fdca26"
             ],
             [
              1,
              "#f0f921"
             ]
            ],
            "type": "histogram2dcontour"
           }
          ],
          "mesh3d": [
           {
            "colorbar": {
             "outlinewidth": 0,
             "ticks": ""
            },
            "type": "mesh3d"
           }
          ],
          "parcoords": [
           {
            "line": {
             "colorbar": {
              "outlinewidth": 0,
              "ticks": ""
             }
            },
            "type": "parcoords"
           }
          ],
          "pie": [
           {
            "automargin": true,
            "type": "pie"
           }
          ],
          "scatter": [
           {
            "fillpattern": {
             "fillmode": "overlay",
             "size": 10,
             "solidity": 0.2
            },
            "type": "scatter"
           }
          ],
          "scatter3d": [
           {
            "line": {
             "colorbar": {
              "outlinewidth": 0,
              "ticks": ""
             }
            },
            "marker": {
             "colorbar": {
              "outlinewidth": 0,
              "ticks": ""
             }
            },
            "type": "scatter3d"
           }
          ],
          "scattercarpet": [
           {
            "marker": {
             "colorbar": {
              "outlinewidth": 0,
              "ticks": ""
             }
            },
            "type": "scattercarpet"
           }
          ],
          "scattergeo": [
           {
            "marker": {
             "colorbar": {
              "outlinewidth": 0,
              "ticks": ""
             }
            },
            "type": "scattergeo"
           }
          ],
          "scattergl": [
           {
            "marker": {
             "colorbar": {
              "outlinewidth": 0,
              "ticks": ""
             }
            },
            "type": "scattergl"
           }
          ],
          "scattermapbox": [
           {
            "marker": {
             "colorbar": {
              "outlinewidth": 0,
              "ticks": ""
             }
            },
            "type": "scattermapbox"
           }
          ],
          "scatterpolar": [
           {
            "marker": {
             "colorbar": {
              "outlinewidth": 0,
              "ticks": ""
             }
            },
            "type": "scatterpolar"
           }
          ],
          "scatterpolargl": [
           {
            "marker": {
             "colorbar": {
              "outlinewidth": 0,
              "ticks": ""
             }
            },
            "type": "scatterpolargl"
           }
          ],
          "scatterternary": [
           {
            "marker": {
             "colorbar": {
              "outlinewidth": 0,
              "ticks": ""
             }
            },
            "type": "scatterternary"
           }
          ],
          "surface": [
           {
            "colorbar": {
             "outlinewidth": 0,
             "ticks": ""
            },
            "colorscale": [
             [
              0,
              "#0d0887"
             ],
             [
              0.1111111111111111,
              "#46039f"
             ],
             [
              0.2222222222222222,
              "#7201a8"
             ],
             [
              0.3333333333333333,
              "#9c179e"
             ],
             [
              0.4444444444444444,
              "#bd3786"
             ],
             [
              0.5555555555555556,
              "#d8576b"
             ],
             [
              0.6666666666666666,
              "#ed7953"
             ],
             [
              0.7777777777777778,
              "#fb9f3a"
             ],
             [
              0.8888888888888888,
              "#fdca26"
             ],
             [
              1,
              "#f0f921"
             ]
            ],
            "type": "surface"
           }
          ],
          "table": [
           {
            "cells": {
             "fill": {
              "color": "#EBF0F8"
             },
             "line": {
              "color": "white"
             }
            },
            "header": {
             "fill": {
              "color": "#C8D4E3"
             },
             "line": {
              "color": "white"
             }
            },
            "type": "table"
           }
          ]
         },
         "layout": {
          "annotationdefaults": {
           "arrowcolor": "#2a3f5f",
           "arrowhead": 0,
           "arrowwidth": 1
          },
          "autotypenumbers": "strict",
          "coloraxis": {
           "colorbar": {
            "outlinewidth": 0,
            "ticks": ""
           }
          },
          "colorscale": {
           "diverging": [
            [
             0,
             "#8e0152"
            ],
            [
             0.1,
             "#c51b7d"
            ],
            [
             0.2,
             "#de77ae"
            ],
            [
             0.3,
             "#f1b6da"
            ],
            [
             0.4,
             "#fde0ef"
            ],
            [
             0.5,
             "#f7f7f7"
            ],
            [
             0.6,
             "#e6f5d0"
            ],
            [
             0.7,
             "#b8e186"
            ],
            [
             0.8,
             "#7fbc41"
            ],
            [
             0.9,
             "#4d9221"
            ],
            [
             1,
             "#276419"
            ]
           ],
           "sequential": [
            [
             0,
             "#0d0887"
            ],
            [
             0.1111111111111111,
             "#46039f"
            ],
            [
             0.2222222222222222,
             "#7201a8"
            ],
            [
             0.3333333333333333,
             "#9c179e"
            ],
            [
             0.4444444444444444,
             "#bd3786"
            ],
            [
             0.5555555555555556,
             "#d8576b"
            ],
            [
             0.6666666666666666,
             "#ed7953"
            ],
            [
             0.7777777777777778,
             "#fb9f3a"
            ],
            [
             0.8888888888888888,
             "#fdca26"
            ],
            [
             1,
             "#f0f921"
            ]
           ],
           "sequentialminus": [
            [
             0,
             "#0d0887"
            ],
            [
             0.1111111111111111,
             "#46039f"
            ],
            [
             0.2222222222222222,
             "#7201a8"
            ],
            [
             0.3333333333333333,
             "#9c179e"
            ],
            [
             0.4444444444444444,
             "#bd3786"
            ],
            [
             0.5555555555555556,
             "#d8576b"
            ],
            [
             0.6666666666666666,
             "#ed7953"
            ],
            [
             0.7777777777777778,
             "#fb9f3a"
            ],
            [
             0.8888888888888888,
             "#fdca26"
            ],
            [
             1,
             "#f0f921"
            ]
           ]
          },
          "colorway": [
           "#636efa",
           "#EF553B",
           "#00cc96",
           "#ab63fa",
           "#FFA15A",
           "#19d3f3",
           "#FF6692",
           "#B6E880",
           "#FF97FF",
           "#FECB52"
          ],
          "font": {
           "color": "#2a3f5f"
          },
          "geo": {
           "bgcolor": "white",
           "lakecolor": "white",
           "landcolor": "#E5ECF6",
           "showlakes": true,
           "showland": true,
           "subunitcolor": "white"
          },
          "hoverlabel": {
           "align": "left"
          },
          "hovermode": "closest",
          "mapbox": {
           "style": "light"
          },
          "paper_bgcolor": "white",
          "plot_bgcolor": "#E5ECF6",
          "polar": {
           "angularaxis": {
            "gridcolor": "white",
            "linecolor": "white",
            "ticks": ""
           },
           "bgcolor": "#E5ECF6",
           "radialaxis": {
            "gridcolor": "white",
            "linecolor": "white",
            "ticks": ""
           }
          },
          "scene": {
           "xaxis": {
            "backgroundcolor": "#E5ECF6",
            "gridcolor": "white",
            "gridwidth": 2,
            "linecolor": "white",
            "showbackground": true,
            "ticks": "",
            "zerolinecolor": "white"
           },
           "yaxis": {
            "backgroundcolor": "#E5ECF6",
            "gridcolor": "white",
            "gridwidth": 2,
            "linecolor": "white",
            "showbackground": true,
            "ticks": "",
            "zerolinecolor": "white"
           },
           "zaxis": {
            "backgroundcolor": "#E5ECF6",
            "gridcolor": "white",
            "gridwidth": 2,
            "linecolor": "white",
            "showbackground": true,
            "ticks": "",
            "zerolinecolor": "white"
           }
          },
          "shapedefaults": {
           "line": {
            "color": "#2a3f5f"
           }
          },
          "ternary": {
           "aaxis": {
            "gridcolor": "white",
            "linecolor": "white",
            "ticks": ""
           },
           "baxis": {
            "gridcolor": "white",
            "linecolor": "white",
            "ticks": ""
           },
           "bgcolor": "#E5ECF6",
           "caxis": {
            "gridcolor": "white",
            "linecolor": "white",
            "ticks": ""
           }
          },
          "title": {
           "x": 0.05
          },
          "xaxis": {
           "automargin": true,
           "gridcolor": "white",
           "linecolor": "white",
           "ticks": "",
           "title": {
            "standoff": 15
           },
           "zerolinecolor": "white",
           "zerolinewidth": 2
          },
          "yaxis": {
           "automargin": true,
           "gridcolor": "white",
           "linecolor": "white",
           "ticks": "",
           "title": {
            "standoff": 15
           },
           "zerolinecolor": "white",
           "zerolinewidth": 2
          }
         }
        },
        "width": 1000
       }
      },
      "text/html": [
       "<div>                            <div id=\"90dbad26-af28-4747-8a08-da8bba10c080\" class=\"plotly-graph-div\" style=\"height:800px; width:1000px;\"></div>            <script type=\"text/javascript\">                require([\"plotly\"], function(Plotly) {                    window.PLOTLYENV=window.PLOTLYENV || {};                                    if (document.getElementById(\"90dbad26-af28-4747-8a08-da8bba10c080\")) {                    Plotly.newPlot(                        \"90dbad26-af28-4747-8a08-da8bba10c080\",                        [{\"hovertemplate\":\"Cluster=%{marker.color}<br>Age=%{x}<br>Annual Income (k$)=%{y}<br>Spending Score (1-100)=%{z}<extra></extra>\",\"legendgroup\":\"0\",\"marker\":{\"color\":[0,0,0,0,0,0,0,0,0,0,0,0,0,0,0,0,0,0,0,0,0,0,0,0,0,0,0,0,0,0,0,0,0,0,0,0,0,0,0,0,0,0,0,0,0,0,0,0,0,0,0,0,0,0,0,0,0,0,0,0,0,0,0,0,0,0,0,0],\"coloraxis\":\"coloraxis\",\"symbol\":\"circle\"},\"mode\":\"markers\",\"name\":\"0\",\"scene\":\"scene\",\"showlegend\":true,\"x\":[-1.4245687900521393,-1.2810354107017978,-1.3528021003769686,-1.1375020313514563,-0.5633685139500905,-1.209268721026627,-0.2763017552494075,-1.1375020313514563,-0.6351352036252612,-0.2763017552494075,-1.0657353416762856,-0.13276837589906598,-1.209268721026627,-0.2763017552494075,-1.3528021003769686,-0.2763017552494075,-0.2763017552494075,-0.9939686520011148,-0.5633685139500905,-0.706901893300432,-0.2763017552494075,0.08253169312644625,-1.1375020313514563,-1.2810354107017978,-1.49633547972731,-1.2810354107017978,-0.6351352036252612,-0.20453506557423673,-1.3528021003769686,-1.0657353416762856,-0.5633685139500905,-1.0657353416762856,-0.8504352726507735,-0.706901893300432,-0.5633685139500905,-0.41983513459974897,-0.5633685139500905,-0.8504352726507735,-1.4245687900521393,-1.49633547972731,-1.4245687900521393,-0.49160182427491966,-0.9222019623259441,-1.1375020313514563,-0.061001686223895235,-1.2810354107017978,-1.209268721026627,-0.3480684449245782,-1.49633547972731,-0.49160182427491966,-1.0657353416762856,-0.8504352726507735,-1.3528021003769686,-1.1375020313514563,-0.9222019623259441,-1.2810354107017978,-1.4245687900521393,-1.4245687900521393,-1.49633547972731,-1.4245687900521393,-0.8504352726507735,-1.1375020313514563,-0.9939686520011148,-1.3528021003769686,-1.4245687900521393,-0.7786685829756027,-0.9939686520011148,-1.4245687900521393],\"y\":[-1.7454294073096774,-1.7454294073096774,-1.7070830700260025,-1.7070830700260025,-1.6687367327423273,-1.6687367327423273,-1.6303903954586523,-1.6303903954586523,-1.5920440581749773,-1.5920440581749773,-1.5536977208913023,-1.5536977208913023,-1.5536977208913023,-1.5153513836076273,-1.5153513836076273,-1.4386587090402774,-1.4003123717566022,-1.4003123717566022,-1.3619660344729272,-1.2469270226219022,-1.2469270226219022,-1.2085806853382273,-1.2085806853382273,-1.170234348054552,-1.0551953362035271,-1.0551953362035271,-1.0168489989198521,-0.9018099870688271,-0.9018099870688271,-0.8634636497851521,-0.825117312501477,-0.825117312501477,-0.786770975217802,-0.786770975217802,-0.786770975217802,-0.710078300650452,-0.671731963366777,-0.5566929515157519,-0.5566929515157519,-0.4800002769484019,-0.4800002769484019,-0.4800002769484019,-0.24992225324635184,-0.24992225324635184,-0.24992225324635184,-0.24992225324635184,-0.1348832413953268,-0.09653690411165178,-0.05819056682797677,-0.019844229544301754,-0.019844229544301754,-0.019844229544301754,0.01850210773937326,0.056848445023048276,0.056848445023048276,0.056848445023048276,0.09519478230672329,0.1335411195903983,0.1718874568740733,0.1718874568740733,0.24858013144142335,0.3636191432924484,0.4403118178597984,0.47865815514347343,0.5170044924271484,0.5936971669944985,0.6320435042781735,0.7854288534128735],\"z\":[-0.43480147996914814,1.195704069915157,-1.7159129834496736,1.0404178270690327,-0.3959799192576171,1.0015962663575015,-1.7159129834496736,1.700384359165061,0.8463100235113773,1.8944921627227165,1.0404178270690327,-1.444162058468956,1.118060948492095,-0.5900877228152724,0.6133806592421909,1.8556706020111853,-0.5900877228152724,0.8851315842229084,0.8851315842229084,1.234525630626688,0.4192728556845355,-0.7453739656613968,1.4286334341843434,0.8851315842229084,1.622741237741999,1.195704069915157,0.8851315842229084,-0.9394817692190521,0.9627747056459706,1.622741237741999,0.4192728556845355,0.5745590985306598,-0.12422899427689955,-0.31833679783455493,-0.31833679783455493,0.38045129497300445,0.14752193070381797,0.03105724856922475,0.18634349141534906,0.34162973426147336,0.34162973426147336,-0.12422899427689955,0.14752193070381797,0.06987880928075582,0.18634349141534906,0.2639866128384112,0.18634349141534906,0.38045129497300445,-0.357158358546086,-0.31833679783455493,0.06987880928075582,-0.007764312142306325,-0.046585872853837404,-0.357158358546086,0.18634349141534906,-0.31833679783455493,0.14752193070381797,-0.16305055498843063,-0.08540743356536848,-0.007764312142306325,0.22516505212688012,-0.823017087084459,-0.6289092835268035,-1.7547345441612048,-1.5606267406035494,-0.3959799192576171,-1.4829836191804873,-1.7547345441612048],\"type\":\"scatter3d\"},{\"hovertemplate\":\"Cluster=%{marker.color}<br>Age=%{x}<br>Annual Income (k$)=%{y}<br>Spending Score (1-100)=%{z}<extra></extra>\",\"legendgroup\":\"1\",\"marker\":{\"color\":[1,1,1,1,1,1,1,1,1,1,1,1,1,1,1,1,1,1,1,1,1,1,1,1,1,1,1,1,1,1,1,1,1,1,1,1,1,1,1,1,1,1,1,1,1,1,1,1,1,1,1,1,1,1,1,1,1,1,1,1,1,1,1,1,1,1,1,1,1,1,1,1,1,1,1,1,1,1,1,1,1,1,1,1,1,1,1,1,1,1,1],\"coloraxis\":\"coloraxis\",\"symbol\":\"diamond\"},\"mode\":\"markers\",\"name\":\"1\",\"scene\":\"scene\",\"showlegend\":true,\"x\":[1.804932245330544,2.0202323143560563,1.3743321072795196,0.9437319692284951,0.5131318311774707,1.0872653485788366,0.44136514150229994,1.517865486629861,1.0154986589036659,0.728431900202983,0.22606507247678773,1.8766989350057148,0.6566652105278122,0.728431900202983,0.8001985898781537,0.728431900202983,1.4460987969546903,0.8001985898781537,0.5848985208526415,0.8719652795533244,2.163765693706398,1.0154986589036659,2.2355323833815683,2.0202323143560563,1.0872653485788366,1.7331655556553733,0.2978317621519585,2.091999004031227,2.2355323833815683,0.5848985208526415,1.517865486629861,1.517865486629861,1.4460987969546903,0.44136514150229994,0.08253169312644625,0.728431900202983,1.3025654176043489,2.0202323143560563,0.5131318311774707,0.6566652105278122,1.1590320382540074,0.8001985898781537,2.091999004031227,0.6566652105278122,0.08253169312644625,0.5848985208526415,0.6566652105278122,0.728431900202983,2.0202323143560563,0.728431900202983,1.9484656246808856,1.0872653485788366,2.091999004031227,1.9484656246808856,1.8766989350057148,-0.061001686223895235,1.7331655556553733,0.728431900202983,0.8719652795533244,0.8001985898781537,-0.061001686223895235,0.2978317621519585,1.4460987969546903,0.5848985208526415,0.36959845182712925,1.3025654176043489,0.6566652105278122,-0.3480684449245782,0.2978317621519585,0.36959845182712925,0.5848985208526415,-0.13276837589906598,-0.3480684449245782,1.230798727929178,0.8001985898781537,0.22606507247678773,-0.20453506557423673,0.08253169312644625,-0.20453506557423673,0.9437319692284951,1.3743321072795196,1.4460987969546903,-0.13276837589906598,0.5131318311774707,0.154298382801617,1.0872653485788366,0.154298382801617,-0.3480684449245782,-0.41983513459974897,0.5848985208526415,0.44136514150229994],\"y\":[-1.5920440581749773,-1.5920440581749773,-1.5536977208913023,-1.4386587090402774,-1.3619660344729272,-1.2469270226219022,-1.2469270226219022,-1.170234348054552,-1.0551953362035271,-1.0551953362035271,-1.0168489989198521,-0.8634636497851521,-0.825117312501477,-0.825117312501477,-0.786770975217802,-0.710078300650452,-0.671731963366777,-0.671731963366777,-0.671731963366777,-0.633385626083102,-0.633385626083102,-0.5566929515157519,-0.5566929515157519,-0.518346614232077,-0.518346614232077,-0.4800002769484019,-0.4800002769484019,-0.4800002769484019,-0.4416539396647269,-0.4416539396647269,-0.4033076023810519,-0.4033076023810519,-0.24992225324635184,-0.24992225324635184,-0.24992225324635184,-0.24992225324635184,-0.24992225324635184,-0.24992225324635184,-0.24992225324635184,-0.24992225324635184,-0.1348832413953268,-0.09653690411165178,-0.05819056682797677,-0.019844229544301754,-0.019844229544301754,-0.019844229544301754,0.01850210773937326,0.056848445023048276,0.056848445023048276,0.056848445023048276,0.09519478230672329,0.09519478230672329,0.09519478230672329,0.09519478230672329,0.09519478230672329,0.1335411195903983,0.1718874568740733,0.1718874568740733,0.24858013144142335,0.24858013144142335,0.24858013144142335,0.4019654805761234,0.4019654805761234,0.4019654805761234,0.47865815514347343,0.5553508297108235,0.6320435042781735,0.6703898415618484,0.6703898415618484,0.6703898415618484,0.6703898415618484,0.6703898415618484,0.6703898415618484,0.7087361788455235,0.9388142025475736,0.9771605398312486,1.0155068771149236,1.0155068771149236,1.0155068771149236,1.0538532143985986,1.0538532143985986,1.2455849008169737,1.3989702499516738,1.4373165872353488,1.4756629245190238,1.5523555990863738,1.6290482736537237,1.6290482736537237,2.012511646490474,2.2809360074761993,2.511014031178249],\"z\":[-1.832377665584267,-1.405340497757425,-1.3665189370458939,-0.823017087084459,-1.7547345441612048,-1.405340497757425,-0.7065524049498657,-1.7935561048727358,-1.7935561048727358,-1.405340497757425,-1.288875815622832,-0.5900877228152724,-0.5512661621037414,-0.86183864779599,0.18634349141534906,0.06987880928075582,0.38045129497300445,-0.20187211569996172,-0.357158358546086,-0.007764312142306325,-0.16305055498843063,-0.16305055498843063,0.22516505212688012,0.06987880928075582,0.34162973426147336,0.03105724856922475,-0.007764312142306325,-0.08540743356536848,0.18634349141534906,-0.31833679783455493,-0.046585872853837404,0.22516505212688012,-0.12422899427689955,0.1087003699922869,-0.08540743356536848,-0.31833679783455493,0.03105724856922475,-0.357158358546086,-0.24069367641149278,-0.16305055498843063,0.30280817354994227,-0.16305055498843063,0.18634349141534906,-0.046585872853837404,-0.3959799192576171,-0.12422899427689955,-0.31833679783455493,-0.08540743356536848,0.34162973426147336,0.22516505212688012,-0.007764312142306325,-0.16305055498843063,-0.27951523712302384,-0.08540743356536848,0.06987880928075582,-0.31833679783455493,-0.27951523712302384,0.34162973426147336,-0.27951523712302384,0.2639866128384112,-0.3959799192576171,-0.5900877228152724,-1.5218051798920182,-1.5994483013150804,-1.6770914227381426,-1.7547345441612048,-0.5512661621037414,-1.0947680120651764,-1.288875815622832,-1.1724111334882386,-1.327697376334363,-1.9100207870073291,-1.9100207870073291,-0.5900877228152724,-0.9394817692190521,-1.1724111334882386,-0.900660208507521,-1.444162058468956,-1.5606267406035494,-1.444162058468956,-1.3665189370458939,-1.405340497757425,-0.7065524049498657,-1.3665189370458939,-0.43480147996914814,-1.0171248906421142,-1.288875815622832,-1.0559464513536454,-1.6382698620266116,-1.327697376334363,-0.86183864779599],\"type\":\"scatter3d\"},{\"hovertemplate\":\"Cluster=%{marker.color}<br>Age=%{x}<br>Annual Income (k$)=%{y}<br>Spending Score (1-100)=%{z}<extra></extra>\",\"legendgroup\":\"2\",\"marker\":{\"color\":[2,2,2,2,2,2,2,2,2,2,2,2,2,2,2,2,2,2,2,2,2,2,2,2,2,2,2,2,2,2,2,2,2,2,2,2,2,2,2,2,2],\"coloraxis\":\"coloraxis\",\"symbol\":\"square\"},\"mode\":\"markers\",\"name\":\"2\",\"scene\":\"scene\",\"showlegend\":true,\"x\":[0.08253169312644625,0.010765003451275509,-0.5633685139500905,0.08253169312644625,-0.061001686223895235,0.010765003451275509,-0.5633685139500905,-0.706901893300432,-0.49160182427491966,-0.2763017552494075,-0.49160182427491966,-0.49160182427491966,-0.7786685829756027,-0.49160182427491966,-0.3480684449245782,0.010765003451275509,-0.061001686223895235,-0.8504352726507735,-0.6351352036252612,-0.6351352036252612,-0.706901893300432,-0.5633685139500905,-0.20453506557423673,-0.41983513459974897,-0.49160182427491966,-0.7786685829756027,-0.20453506557423673,-0.6351352036252612,-0.8504352726507735,-0.2763017552494075,-0.49160182427491966,-0.706901893300432,-0.6351352036252612,-0.7786685829756027,-0.20453506557423673,-0.49160182427491966,-0.061001686223895235,-0.2763017552494075,-0.49160182427491966,-0.49160182427491966,-0.6351352036252612],\"y\":[0.3252728060087734,0.3252728060087734,0.3636191432924484,0.4019654805761234,0.4019654805761234,0.4019654805761234,0.4403118178597984,0.47865815514347343,0.47865815514347343,0.5170044924271484,0.5553508297108235,0.5936971669944985,0.6320435042781735,0.6320435042781735,0.6703898415618484,0.6703898415618484,0.6703898415618484,0.6703898415618484,0.6703898415618484,0.6703898415618484,0.7087361788455235,0.7854288534128735,0.9388142025475736,0.9771605398312486,1.0155068771149236,1.0155068771149236,1.0155068771149236,1.0538532143985986,1.0538532143985986,1.2455849008169737,1.3989702499516738,1.4373165872353488,1.4756629245190238,1.5523555990863738,1.6290482736537237,1.6290482736537237,2.012511646490474,2.2809360074761993,2.511014031178249,2.7698518078430556,2.7698518078430556],\"z\":[0.30280817354994227,1.5839196770304678,1.0404178270690327,1.7392059198765921,0.9627747056459706,0.9627747056459706,0.8074884627998463,1.4674549948958746,0.8851315842229084,0.8463100235113773,1.66156279845353,1.4286334341843434,1.8168490412996543,0.9239531449344395,1.5450981163189368,1.4674549948958746,1.0015962663575015,1.5062765556074056,1.0792393877805637,0.8851315842229084,1.2733471913382193,1.66156279845353,0.9627747056459706,1.7392059198765921,0.49691597710759766,0.9627747056459706,1.622741237741999,1.3898118734728124,0.7298453413767841,1.5450981163189368,1.3898118734728124,1.4674549948958746,1.8168490412996543,0.691023780665253,1.3509903127612812,0.7298453413767841,1.5839196770304678,1.118060948492095,0.9239531449344395,-1.2500542549113007,1.2733471913382193],\"type\":\"scatter3d\"}],                        {\"template\":{\"data\":{\"histogram2dcontour\":[{\"type\":\"histogram2dcontour\",\"colorbar\":{\"outlinewidth\":0,\"ticks\":\"\"},\"colorscale\":[[0.0,\"#0d0887\"],[0.1111111111111111,\"#46039f\"],[0.2222222222222222,\"#7201a8\"],[0.3333333333333333,\"#9c179e\"],[0.4444444444444444,\"#bd3786\"],[0.5555555555555556,\"#d8576b\"],[0.6666666666666666,\"#ed7953\"],[0.7777777777777778,\"#fb9f3a\"],[0.8888888888888888,\"#fdca26\"],[1.0,\"#f0f921\"]]}],\"choropleth\":[{\"type\":\"choropleth\",\"colorbar\":{\"outlinewidth\":0,\"ticks\":\"\"}}],\"histogram2d\":[{\"type\":\"histogram2d\",\"colorbar\":{\"outlinewidth\":0,\"ticks\":\"\"},\"colorscale\":[[0.0,\"#0d0887\"],[0.1111111111111111,\"#46039f\"],[0.2222222222222222,\"#7201a8\"],[0.3333333333333333,\"#9c179e\"],[0.4444444444444444,\"#bd3786\"],[0.5555555555555556,\"#d8576b\"],[0.6666666666666666,\"#ed7953\"],[0.7777777777777778,\"#fb9f3a\"],[0.8888888888888888,\"#fdca26\"],[1.0,\"#f0f921\"]]}],\"heatmap\":[{\"type\":\"heatmap\",\"colorbar\":{\"outlinewidth\":0,\"ticks\":\"\"},\"colorscale\":[[0.0,\"#0d0887\"],[0.1111111111111111,\"#46039f\"],[0.2222222222222222,\"#7201a8\"],[0.3333333333333333,\"#9c179e\"],[0.4444444444444444,\"#bd3786\"],[0.5555555555555556,\"#d8576b\"],[0.6666666666666666,\"#ed7953\"],[0.7777777777777778,\"#fb9f3a\"],[0.8888888888888888,\"#fdca26\"],[1.0,\"#f0f921\"]]}],\"heatmapgl\":[{\"type\":\"heatmapgl\",\"colorbar\":{\"outlinewidth\":0,\"ticks\":\"\"},\"colorscale\":[[0.0,\"#0d0887\"],[0.1111111111111111,\"#46039f\"],[0.2222222222222222,\"#7201a8\"],[0.3333333333333333,\"#9c179e\"],[0.4444444444444444,\"#bd3786\"],[0.5555555555555556,\"#d8576b\"],[0.6666666666666666,\"#ed7953\"],[0.7777777777777778,\"#fb9f3a\"],[0.8888888888888888,\"#fdca26\"],[1.0,\"#f0f921\"]]}],\"contourcarpet\":[{\"type\":\"contourcarpet\",\"colorbar\":{\"outlinewidth\":0,\"ticks\":\"\"}}],\"contour\":[{\"type\":\"contour\",\"colorbar\":{\"outlinewidth\":0,\"ticks\":\"\"},\"colorscale\":[[0.0,\"#0d0887\"],[0.1111111111111111,\"#46039f\"],[0.2222222222222222,\"#7201a8\"],[0.3333333333333333,\"#9c179e\"],[0.4444444444444444,\"#bd3786\"],[0.5555555555555556,\"#d8576b\"],[0.6666666666666666,\"#ed7953\"],[0.7777777777777778,\"#fb9f3a\"],[0.8888888888888888,\"#fdca26\"],[1.0,\"#f0f921\"]]}],\"surface\":[{\"type\":\"surface\",\"colorbar\":{\"outlinewidth\":0,\"ticks\":\"\"},\"colorscale\":[[0.0,\"#0d0887\"],[0.1111111111111111,\"#46039f\"],[0.2222222222222222,\"#7201a8\"],[0.3333333333333333,\"#9c179e\"],[0.4444444444444444,\"#bd3786\"],[0.5555555555555556,\"#d8576b\"],[0.6666666666666666,\"#ed7953\"],[0.7777777777777778,\"#fb9f3a\"],[0.8888888888888888,\"#fdca26\"],[1.0,\"#f0f921\"]]}],\"mesh3d\":[{\"type\":\"mesh3d\",\"colorbar\":{\"outlinewidth\":0,\"ticks\":\"\"}}],\"scatter\":[{\"fillpattern\":{\"fillmode\":\"overlay\",\"size\":10,\"solidity\":0.2},\"type\":\"scatter\"}],\"parcoords\":[{\"type\":\"parcoords\",\"line\":{\"colorbar\":{\"outlinewidth\":0,\"ticks\":\"\"}}}],\"scatterpolargl\":[{\"type\":\"scatterpolargl\",\"marker\":{\"colorbar\":{\"outlinewidth\":0,\"ticks\":\"\"}}}],\"bar\":[{\"error_x\":{\"color\":\"#2a3f5f\"},\"error_y\":{\"color\":\"#2a3f5f\"},\"marker\":{\"line\":{\"color\":\"#E5ECF6\",\"width\":0.5},\"pattern\":{\"fillmode\":\"overlay\",\"size\":10,\"solidity\":0.2}},\"type\":\"bar\"}],\"scattergeo\":[{\"type\":\"scattergeo\",\"marker\":{\"colorbar\":{\"outlinewidth\":0,\"ticks\":\"\"}}}],\"scatterpolar\":[{\"type\":\"scatterpolar\",\"marker\":{\"colorbar\":{\"outlinewidth\":0,\"ticks\":\"\"}}}],\"histogram\":[{\"marker\":{\"pattern\":{\"fillmode\":\"overlay\",\"size\":10,\"solidity\":0.2}},\"type\":\"histogram\"}],\"scattergl\":[{\"type\":\"scattergl\",\"marker\":{\"colorbar\":{\"outlinewidth\":0,\"ticks\":\"\"}}}],\"scatter3d\":[{\"type\":\"scatter3d\",\"line\":{\"colorbar\":{\"outlinewidth\":0,\"ticks\":\"\"}},\"marker\":{\"colorbar\":{\"outlinewidth\":0,\"ticks\":\"\"}}}],\"scattermapbox\":[{\"type\":\"scattermapbox\",\"marker\":{\"colorbar\":{\"outlinewidth\":0,\"ticks\":\"\"}}}],\"scatterternary\":[{\"type\":\"scatterternary\",\"marker\":{\"colorbar\":{\"outlinewidth\":0,\"ticks\":\"\"}}}],\"scattercarpet\":[{\"type\":\"scattercarpet\",\"marker\":{\"colorbar\":{\"outlinewidth\":0,\"ticks\":\"\"}}}],\"carpet\":[{\"aaxis\":{\"endlinecolor\":\"#2a3f5f\",\"gridcolor\":\"white\",\"linecolor\":\"white\",\"minorgridcolor\":\"white\",\"startlinecolor\":\"#2a3f5f\"},\"baxis\":{\"endlinecolor\":\"#2a3f5f\",\"gridcolor\":\"white\",\"linecolor\":\"white\",\"minorgridcolor\":\"white\",\"startlinecolor\":\"#2a3f5f\"},\"type\":\"carpet\"}],\"table\":[{\"cells\":{\"fill\":{\"color\":\"#EBF0F8\"},\"line\":{\"color\":\"white\"}},\"header\":{\"fill\":{\"color\":\"#C8D4E3\"},\"line\":{\"color\":\"white\"}},\"type\":\"table\"}],\"barpolar\":[{\"marker\":{\"line\":{\"color\":\"#E5ECF6\",\"width\":0.5},\"pattern\":{\"fillmode\":\"overlay\",\"size\":10,\"solidity\":0.2}},\"type\":\"barpolar\"}],\"pie\":[{\"automargin\":true,\"type\":\"pie\"}]},\"layout\":{\"autotypenumbers\":\"strict\",\"colorway\":[\"#636efa\",\"#EF553B\",\"#00cc96\",\"#ab63fa\",\"#FFA15A\",\"#19d3f3\",\"#FF6692\",\"#B6E880\",\"#FF97FF\",\"#FECB52\"],\"font\":{\"color\":\"#2a3f5f\"},\"hovermode\":\"closest\",\"hoverlabel\":{\"align\":\"left\"},\"paper_bgcolor\":\"white\",\"plot_bgcolor\":\"#E5ECF6\",\"polar\":{\"bgcolor\":\"#E5ECF6\",\"angularaxis\":{\"gridcolor\":\"white\",\"linecolor\":\"white\",\"ticks\":\"\"},\"radialaxis\":{\"gridcolor\":\"white\",\"linecolor\":\"white\",\"ticks\":\"\"}},\"ternary\":{\"bgcolor\":\"#E5ECF6\",\"aaxis\":{\"gridcolor\":\"white\",\"linecolor\":\"white\",\"ticks\":\"\"},\"baxis\":{\"gridcolor\":\"white\",\"linecolor\":\"white\",\"ticks\":\"\"},\"caxis\":{\"gridcolor\":\"white\",\"linecolor\":\"white\",\"ticks\":\"\"}},\"coloraxis\":{\"colorbar\":{\"outlinewidth\":0,\"ticks\":\"\"}},\"colorscale\":{\"sequential\":[[0.0,\"#0d0887\"],[0.1111111111111111,\"#46039f\"],[0.2222222222222222,\"#7201a8\"],[0.3333333333333333,\"#9c179e\"],[0.4444444444444444,\"#bd3786\"],[0.5555555555555556,\"#d8576b\"],[0.6666666666666666,\"#ed7953\"],[0.7777777777777778,\"#fb9f3a\"],[0.8888888888888888,\"#fdca26\"],[1.0,\"#f0f921\"]],\"sequentialminus\":[[0.0,\"#0d0887\"],[0.1111111111111111,\"#46039f\"],[0.2222222222222222,\"#7201a8\"],[0.3333333333333333,\"#9c179e\"],[0.4444444444444444,\"#bd3786\"],[0.5555555555555556,\"#d8576b\"],[0.6666666666666666,\"#ed7953\"],[0.7777777777777778,\"#fb9f3a\"],[0.8888888888888888,\"#fdca26\"],[1.0,\"#f0f921\"]],\"diverging\":[[0,\"#8e0152\"],[0.1,\"#c51b7d\"],[0.2,\"#de77ae\"],[0.3,\"#f1b6da\"],[0.4,\"#fde0ef\"],[0.5,\"#f7f7f7\"],[0.6,\"#e6f5d0\"],[0.7,\"#b8e186\"],[0.8,\"#7fbc41\"],[0.9,\"#4d9221\"],[1,\"#276419\"]]},\"xaxis\":{\"gridcolor\":\"white\",\"linecolor\":\"white\",\"ticks\":\"\",\"title\":{\"standoff\":15},\"zerolinecolor\":\"white\",\"automargin\":true,\"zerolinewidth\":2},\"yaxis\":{\"gridcolor\":\"white\",\"linecolor\":\"white\",\"ticks\":\"\",\"title\":{\"standoff\":15},\"zerolinecolor\":\"white\",\"automargin\":true,\"zerolinewidth\":2},\"scene\":{\"xaxis\":{\"backgroundcolor\":\"#E5ECF6\",\"gridcolor\":\"white\",\"linecolor\":\"white\",\"showbackground\":true,\"ticks\":\"\",\"zerolinecolor\":\"white\",\"gridwidth\":2},\"yaxis\":{\"backgroundcolor\":\"#E5ECF6\",\"gridcolor\":\"white\",\"linecolor\":\"white\",\"showbackground\":true,\"ticks\":\"\",\"zerolinecolor\":\"white\",\"gridwidth\":2},\"zaxis\":{\"backgroundcolor\":\"#E5ECF6\",\"gridcolor\":\"white\",\"linecolor\":\"white\",\"showbackground\":true,\"ticks\":\"\",\"zerolinecolor\":\"white\",\"gridwidth\":2}},\"shapedefaults\":{\"line\":{\"color\":\"#2a3f5f\"}},\"annotationdefaults\":{\"arrowcolor\":\"#2a3f5f\",\"arrowhead\":0,\"arrowwidth\":1},\"geo\":{\"bgcolor\":\"white\",\"landcolor\":\"#E5ECF6\",\"subunitcolor\":\"white\",\"showland\":true,\"showlakes\":true,\"lakecolor\":\"white\"},\"title\":{\"x\":0.05},\"mapbox\":{\"style\":\"light\"}}},\"scene\":{\"domain\":{\"x\":[0.0,1.0],\"y\":[0.0,1.0]},\"xaxis\":{\"title\":{\"text\":\"Age\"},\"nticks\":4,\"range\":[-1.49633547972731,2.2355323833815683]},\"yaxis\":{\"title\":{\"text\":\"Annual Income (k$)\"},\"nticks\":4,\"range\":[-1.7454294073096774,2.7698518078430556]},\"zaxis\":{\"title\":{\"text\":\"Spending Score (1-100)\"},\"nticks\":4,\"range\":[-1.9100207870073291,1.8944921627227165]}},\"coloraxis\":{\"colorbar\":{\"title\":{\"text\":\"Cluster\"}},\"colorscale\":[[0.0,\"#0d0887\"],[0.1111111111111111,\"#46039f\"],[0.2222222222222222,\"#7201a8\"],[0.3333333333333333,\"#9c179e\"],[0.4444444444444444,\"#bd3786\"],[0.5555555555555556,\"#d8576b\"],[0.6666666666666666,\"#ed7953\"],[0.7777777777777778,\"#fb9f3a\"],[0.8888888888888888,\"#fdca26\"],[1.0,\"#f0f921\"]]},\"legend\":{\"title\":{\"text\":\"Cluster\"},\"tracegroupgap\":0},\"margin\":{\"t\":60},\"width\":1000,\"height\":800},                        {\"responsive\": true}                    ).then(function(){\n",
       "                            \n",
       "var gd = document.getElementById('90dbad26-af28-4747-8a08-da8bba10c080');\n",
       "var x = new MutationObserver(function (mutations, observer) {{\n",
       "        var display = window.getComputedStyle(gd).display;\n",
       "        if (!display || display === 'none') {{\n",
       "            console.log([gd, 'removed!']);\n",
       "            Plotly.purge(gd);\n",
       "            observer.disconnect();\n",
       "        }}\n",
       "}});\n",
       "\n",
       "// Listen for the removal of the full notebook cells\n",
       "var notebookContainer = gd.closest('#notebook-container');\n",
       "if (notebookContainer) {{\n",
       "    x.observe(notebookContainer, {childList: true});\n",
       "}}\n",
       "\n",
       "// Listen for the clearing of the current output cell\n",
       "var outputEl = gd.closest('.output');\n",
       "if (outputEl) {{\n",
       "    x.observe(outputEl, {childList: true});\n",
       "}}\n",
       "\n",
       "                        })                };                });            </script>        </div>"
      ]
     },
     "metadata": {},
     "output_type": "display_data"
    }
   ],
   "source": [
    "import plotly.express as px\n",
    "\n",
    "# Assuming Df_Std is your DataFrame with columns: 'Age', 'Annual Income (k$)', 'Spending Score (1-100)'\n",
    "Df_Std['Cluster'] = kmeans.labels_\n",
    "\n",
    "# Create 3D scatter plot\n",
    "fig = px.scatter_3d(Df_Std, x='Age', y='Annual Income (k$)', z='Spending Score (1-100)', color='Cluster', symbol='Cluster')\n",
    "\n",
    "# Update layout for better visibility and set width and height\n",
    "fig.update_layout(\n",
    "    scene=dict(\n",
    "        xaxis=dict(nticks=4, range=[min(Df_Std['Age']), max(Df_Std['Age'])]),\n",
    "        yaxis=dict(nticks=4, range=[min(Df_Std['Annual Income (k$)']), max(Df_Std['Annual Income (k$)'])]),\n",
    "        zaxis=dict(nticks=4, range=[min(Df_Std['Spending Score (1-100)']), max(Df_Std['Spending Score (1-100)'])]),\n",
    "    ),\n",
    "    width=1000,  # Set the desired width\n",
    "    height=800  # Set the desired height\n",
    ")\n",
    "\n",
    "# Show the plot\n",
    "fig.show()"
   ]
  },
  {
   "cell_type": "markdown",
   "id": "2dde1a6d",
   "metadata": {},
   "source": [
    "# Conclusion"
   ]
  },
  {
   "cell_type": "markdown",
   "id": "1cb3f97e",
   "metadata": {},
   "source": [
    "In conclusion, this project delves into the analysis of Mall Customers' data, employing the K-means clustering algorithm to unveil insightful patterns and groupings. The performed 2D and 3D clustering adds a layer of sophistication to our understanding of customer segmentation based on age, annual income, and spending score.\n",
    "\n",
    "The acquired clusters can be leveraged to formulate targeted marketing strategies, enhancing customer engagement and fostering business growth. Your feedback on this notebook is highly valued, contributing to a collaborative journey in the realm of data science. Happy exploring!\n"
   ]
  }
 ],
 "metadata": {
  "kernelspec": {
   "display_name": "Python 3 (ipykernel)",
   "language": "python",
   "name": "python3"
  },
  "language_info": {
   "codemirror_mode": {
    "name": "ipython",
    "version": 3
   },
   "file_extension": ".py",
   "mimetype": "text/x-python",
   "name": "python",
   "nbconvert_exporter": "python",
   "pygments_lexer": "ipython3",
   "version": "3.10.9"
  }
 },
 "nbformat": 4,
 "nbformat_minor": 5
}
